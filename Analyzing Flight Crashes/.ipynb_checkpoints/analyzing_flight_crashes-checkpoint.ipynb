{
 "cells": [
  {
   "cell_type": "markdown",
   "id": "cbaaef04-4732-4e32-a804-fedeefe2fa81",
   "metadata": {},
   "source": [
    "![Abdessamd Touzani](banner.png)"
   ]
  },
  {
   "cell_type": "code",
   "execution_count": null,
   "id": "5c6e7707-9e41-4db8-884a-fde932b7e36f",
   "metadata": {},
   "outputs": [],
   "source": [
    "import pandas as pd\n",
    "import numpy as np\n",
    "\n",
    "\n",
    "# set seed for reproducibility\n",
    "np.random.seed(0)\n",
    "\n",
    "print(\"Checked\")"
   ]
  },
  {
   "cell_type": "code",
   "execution_count": null,
   "id": "7b94f329-41e3-4f22-9bb3-51e51ab44547",
   "metadata": {},
   "outputs": [],
   "source": [
    "import matplotlib.pyplot as plt\n",
    "import seaborn as sns\n",
    "print('Checked...')"
   ]
  },
  {
   "cell_type": "raw",
   "id": "b89743f1-d258-43ad-a874-54618b707467",
   "metadata": {},
   "source": [
    "TODO: intorduction... || Add summary for easy access"
   ]
  },
  {
   "cell_type": "markdown",
   "id": "fe118d73-612e-453f-acb5-3db0dea16fc8",
   "metadata": {},
   "source": [
    "**[Documentation for used Data](https://www.kaggle.com/datasets/saurograndi/airplane-crashes-since-1908)**"
   ]
  },
  {
   "cell_type": "markdown",
   "id": "0653794a-413d-4854-8659-24dd61c885cb",
   "metadata": {},
   "source": [
    "## **Import Data**"
   ]
  },
  {
   "cell_type": "code",
   "execution_count": null,
   "id": "d82a7f04-fd5f-4963-940a-dfa8f677bd23",
   "metadata": {},
   "outputs": [],
   "source": [
    "df = pd.read_csv('Airplane_Crashes_and_Fatalities_Since_1908_t0_2023.csv', encoding='ISO-8859-1')\n",
    "print('Data read successfully')"
   ]
  },
  {
   "cell_type": "code",
   "execution_count": null,
   "id": "a0f29521-b823-4575-bcf1-d0694347336f",
   "metadata": {},
   "outputs": [],
   "source": [
    "df.head()"
   ]
  },
  {
   "cell_type": "markdown",
   "id": "fa4b91fb-49bf-4c65-8809-c48b82406494",
   "metadata": {
    "jp-MarkdownHeadingCollapsed": true
   },
   "source": [
    "## **I) Data Cleaning:**"
   ]
  },
  {
   "cell_type": "markdown",
   "id": "ed55bf89-d9f6-4629-b8f0-aa35ce47c92e",
   "metadata": {},
   "source": [
    "### 1) Handle missing values:"
   ]
  },
  {
   "cell_type": "code",
   "execution_count": null,
   "id": "2829435c-85b5-4d4f-8880-c9063fdc4158",
   "metadata": {},
   "outputs": [],
   "source": [
    "print(\"Data shape: \", df.shape)\n",
    "df.isnull().sum()"
   ]
  },
  {
   "cell_type": "markdown",
   "id": "630d441d-8a46-4a6a-a31e-eecadadda156",
   "metadata": {},
   "source": [
    "--> As we can see at first sight,for flight number almost all rows are null, so I will just remove that column."
   ]
  },
  {
   "cell_type": "code",
   "execution_count": null,
   "id": "4b9ce1f6-f8e1-40af-92f5-16405c0d0d6f",
   "metadata": {},
   "outputs": [],
   "source": [
    "df.drop(['Flight #'], axis = 1, inplace = True)\n",
    "df.head(5)"
   ]
  },
  {
   "cell_type": "code",
   "execution_count": null,
   "id": "da9c74b8-ad76-4d90-b1ef-34a825221d47",
   "metadata": {},
   "outputs": [],
   "source": [
    "df.shape"
   ]
  },
  {
   "cell_type": "markdown",
   "id": "1e760ece-c72b-4f03-bb3b-c3154e5ba594",
   "metadata": {},
   "source": [
    "--> The column is dropped successfuly"
   ]
  },
  {
   "cell_type": "markdown",
   "id": "2dedf042-ca00-493b-9a57-568553fa12aa",
   "metadata": {},
   "source": [
    "Now, I will group data into 2 categories (From IBM Data Science course), continuous attributes that I will replace by the mean, and caategorical aattributes tht I will replace by the most frequence value\n",
    "- Continuous attributes:\n",
    "  - Aboard\n",
    "  - Aboard Passangers\n",
    "  - Aboard Crew\n",
    "  - Fatalities\n",
    "  - Fatalities Passaangers\n",
    "  - Fatalities Crew\n",
    "  - Ground\n",
    "- Categorical attributes:\n",
    "  - Location\n",
    "  - Operator\n",
    "  - Route\n",
    "  - AC Type\n",
    "  - Registration\n",
    "  - cn/ln\n",
    "  - Summary"
   ]
  },
  {
   "cell_type": "markdown",
   "id": "6773deb9-50ac-4ba0-90e7-37ae86e103d6",
   "metadata": {},
   "source": [
    "- **There is no null values for Date**\n",
    "- **For the time, at this stage I don't see any use of it in futur analysis, because crashes are not strongly relatable with a specific time of the day, even tho it still can, in seasons like Falls and Winter...**\n",
    "--\n",
    "- ***But still can use, depends on analysis progress:***\n",
    "  - *Forward Fill (ffill()) or Backward Fill (bfill())*\n",
    "  - *Linear Interpolation*"
   ]
  },
  {
   "cell_type": "raw",
   "id": "104b594f-9337-406e-9652-4e2f7f95bc45",
   "metadata": {},
   "source": [
    "df.isnull().sum()"
   ]
  },
  {
   "cell_type": "markdown",
   "id": "39fae738-be00-4046-a36e-485c7f1bb6aa",
   "metadata": {},
   "source": [
    "### *for continuous attributes:*"
   ]
  },
  {
   "cell_type": "raw",
   "id": "a9074c86-0ac4-4d7c-8856-b5b7ead5dd80",
   "metadata": {},
   "source": [
    "#Aboard -- set it as needed to explore how null values are represented\n",
    "pd.set_option('display.max_rows', 4000)\n",
    "df['Aboard'].head(4000)"
   ]
  },
  {
   "cell_type": "code",
   "execution_count": null,
   "id": "26906435-299a-4706-8ff3-c4d8977a50d7",
   "metadata": {},
   "outputs": [],
   "source": [
    "#Aboard\n",
    "#Calculate mean of Aboard\n",
    "aboard_mean = df['Aboard'].mean()\n",
    "#Replace NaN with the mean - import numpy for it\n",
    "df['Aboard'].replace(np.NaN, aboard_mean, inplace = True)\n",
    "print(\"Aboard null values: \", df['Aboard'].isnull().sum())"
   ]
  },
  {
   "cell_type": "raw",
   "id": "8f9fe20f-5471-48ea-b0e7-634888659c19",
   "metadata": {},
   "source": [
    "--> we will do  the same for the other continuous variables. TODO..."
   ]
  },
  {
   "cell_type": "code",
   "execution_count": null,
   "id": "150b2b0f-dc34-45fb-b1e7-8a6eaeb423e5",
   "metadata": {},
   "outputs": [],
   "source": [
    "#Aboard Passangers\n",
    "aboardPassangers_mean = df['Aboard Passangers'].mean()\n",
    "df['Aboard Passangers'].replace(np.NaN, aboardPassangers_mean, inplace = True)\n",
    "print(\"Aboard Passangers null values: \", df['Aboard Passangers'].isnull().sum())"
   ]
  },
  {
   "cell_type": "code",
   "execution_count": null,
   "id": "56a64d94-3707-4125-be05-25d235ae1e6a",
   "metadata": {},
   "outputs": [],
   "source": [
    "#Aboard Crew\n",
    "aboardCrew_mean = df['Aboard Crew'].mean()\n",
    "df['Aboard Crew'].replace(np.NaN, aboardCrew_mean, inplace = True)\n",
    "print(\"Aboard Crew null values: \", df['Aboard Crew'].isnull().sum())"
   ]
  },
  {
   "cell_type": "code",
   "execution_count": null,
   "id": "0c893c6a-6fce-47fe-96d8-2691271f309e",
   "metadata": {},
   "outputs": [],
   "source": [
    "#Fatalities\n",
    "fatalities_mean = df['Fatalities'].mean()\n",
    "df['Fatalities'].replace(np.NaN, fatalities_mean, inplace = True)\n",
    "print(\"Fatalities null values: \", df['Fatalities'].isnull().sum())"
   ]
  },
  {
   "cell_type": "code",
   "execution_count": null,
   "id": "4d4b6b60-ec53-4ccf-8a42-0ebf15fb90fc",
   "metadata": {},
   "outputs": [],
   "source": [
    "#Fatalities Passengers\n",
    "fatalitiesPassangers_mean = df['Fatalities Passangers'].mean()\n",
    "df['Fatalities Passangers'].replace(np.NaN, fatalitiesPassangers_mean, inplace = True)\n",
    "print(\"Fatalities Passangers null values: \", df['Fatalities Passangers'].isnull().sum())"
   ]
  },
  {
   "cell_type": "code",
   "execution_count": null,
   "id": "e388abe4-ecde-4611-ae26-1b240d9c2a87",
   "metadata": {},
   "outputs": [],
   "source": [
    "#Fatalities Crew\n",
    "fatalitiesCrew_mean = df['Fatalities Crew'].mean()\n",
    "df['Fatalities Crew'].replace(np.NaN, fatalitiesCrew_mean, inplace = True)\n",
    "print(\"Fatalities Passangers null values: \", df['Fatalities Crew'].isnull().sum())"
   ]
  },
  {
   "cell_type": "code",
   "execution_count": null,
   "id": "c5272c4d-1310-4ae7-93cc-828d6e17207e",
   "metadata": {},
   "outputs": [],
   "source": [
    "#Ground\n",
    "ground_mean = df['Ground'].mean()\n",
    "df['Ground'].replace(np.NaN, ground_mean, inplace = True)\n",
    "print(\"Ground null values: \", df['Ground'].isnull().sum())"
   ]
  },
  {
   "cell_type": "markdown",
   "id": "2c206c90-8996-453c-bf34-00b2a1f13ce6",
   "metadata": {},
   "source": [
    "### *for categorical attributes:*"
   ]
  },
  {
   "cell_type": "raw",
   "id": "d34d1601-18ba-443b-b56d-b4e1e7f786c4",
   "metadata": {},
   "source": [
    "I will replace them with the most frequent value, using value_counts().idxmax or mode()[0].\n",
    "In this project, I will use the mode."
   ]
  },
  {
   "cell_type": "raw",
   "id": "6288ed3a-929e-4357-8cc7-0fe20e60a14a",
   "metadata": {},
   "source": [
    "- Categorical attributes:\n",
    "  - Location\n",
    "  - Operator\n",
    "  - Route\n",
    "  - AC Type\n",
    "  - Registration\n",
    "  - cn/ln\n",
    "  - Summary"
   ]
  },
  {
   "cell_type": "code",
   "execution_count": null,
   "id": "3cfa7986-580b-4b37-9b1d-cd970dd375ef",
   "metadata": {},
   "outputs": [],
   "source": [
    "#Location\n",
    "#Calculate most frequent value\n",
    "print(\"Location null values: \", df['Location'].isnull().sum())\n",
    "location_maxFreq = df['Location'].mode()[0]\n",
    "#Replace NaN with the mean - import numpy for it\n",
    "df['Location'].fillna(value=location_maxFreq, inplace=True)\n",
    "print(\"Location null values: \", df['Location'].isnull().sum())"
   ]
  },
  {
   "cell_type": "code",
   "execution_count": null,
   "id": "5dc1db5f-cb95-4d62-a98e-ced7203e8269",
   "metadata": {},
   "outputs": [],
   "source": [
    "#Operator\n",
    "print(\"Operator null values: \", df['Operator'].isnull().sum())\n",
    "operator_maxFreq = df['Operator'].mode()[0]\n",
    "df['Operator'].fillna(value=operator_maxFreq, inplace=True)\n",
    "print(\"Operator null values: \", df['Operator'].isnull().sum())"
   ]
  },
  {
   "cell_type": "code",
   "execution_count": null,
   "id": "95029bd1-934a-42f4-b550-d04598652ffc",
   "metadata": {},
   "outputs": [],
   "source": [
    "#Route\n",
    "print(\"Route null values: \", df['Route'].isnull().sum())\n",
    "route_maxFreq = df['Route'].mode()[0]\n",
    "print(route_maxFreq)\n",
    "df['Route'].fillna(value=route_maxFreq, inplace=True)\n",
    "print(\"Route null values: \", df['Route'].isnull().sum())"
   ]
  },
  {
   "cell_type": "code",
   "execution_count": null,
   "id": "36b23683-0a82-4980-b621-98fb365a53c5",
   "metadata": {},
   "outputs": [],
   "source": [
    "#AC Type\n",
    "print(\"AC Type null values: \", df['AC Type'].isnull().sum())\n",
    "ACType_maxFreq = df['AC Type'].mode()[0]\n",
    "print(\"Frequent value: \",ACType_maxFreq)\n",
    "df['AC Type'].fillna(value=ACType_maxFreq, inplace=True)\n",
    "print(\"AC Type null values: \", df['AC Type'].isnull().sum())"
   ]
  },
  {
   "cell_type": "code",
   "execution_count": null,
   "id": "d6474af1-9f79-4534-ba2c-5087a26b12a5",
   "metadata": {},
   "outputs": [],
   "source": [
    "#Registration\n",
    "print(\"Registration null values: \", df['Registration'].isnull().sum())\n",
    "registration_maxFreq = df['Registration'].mode()[0]\n",
    "print(\"Frequent value: \",registration_maxFreq)\n",
    "df['Registration'].fillna(value=registration_maxFreq, inplace=True)\n",
    "print(\"Registration null values: \", df['Registration'].isnull().sum())"
   ]
  },
  {
   "cell_type": "code",
   "execution_count": null,
   "id": "e1511bea-4546-4e5d-b989-edc46d5165da",
   "metadata": {},
   "outputs": [],
   "source": [
    "#cn/ln\n",
    "print(\"cn/ln null values: \", df['cn/ln'].isnull().sum())\n",
    "CnLn_maxFreq = df['cn/ln'].mode()[0]\n",
    "print(\"Frequent value: \",CnLn_maxFreq)\n",
    "df['cn/ln'].fillna(value=CnLn_maxFreq, inplace=True)\n",
    "print(\"cn/ln null values: \", df['cn/ln'].isnull().sum())"
   ]
  },
  {
   "cell_type": "code",
   "execution_count": null,
   "id": "5030e035-add3-4466-9af0-7ad8388d446f",
   "metadata": {},
   "outputs": [],
   "source": [
    "df['Summary'].isnull().sum()"
   ]
  },
  {
   "cell_type": "code",
   "execution_count": null,
   "id": "65426d10-6197-439b-885e-3594b27c239b",
   "metadata": {},
   "outputs": [],
   "source": [
    "df['Summary'].mode()[0]"
   ]
  },
  {
   "cell_type": "code",
   "execution_count": null,
   "id": "04d5e87d-7065-4919-9e94-7be38d77cc19",
   "metadata": {},
   "outputs": [],
   "source": [
    "#Summary\n",
    "#From previous line, the most frequent value looks better than keeping the null data\n",
    "print(\"Summary null values: \", df['Summary'].isnull().sum())\n",
    "summary_maxFreq = df['Summary'].mode()[0]\n",
    "print(\"Frequent value: \",CnLn_maxFreq)\n",
    "df['Summary'].fillna(value=summary_maxFreq, inplace=True)\n",
    "print(\"Summary null values: \", df['Summary'].isnull().sum())"
   ]
  },
  {
   "cell_type": "markdown",
   "id": "9090a528-1cb6-4ff7-9438-6770e2c37bd3",
   "metadata": {},
   "source": [
    "**For the time, aat this stage I don't see any use of it in futur analysis, because crashes are not strogly relatable with a specific time of the day, even tho it still can, in seasons like Falls and Winter...**"
   ]
  },
  {
   "cell_type": "markdown",
   "id": "cf165f2e-3b93-44b6-80a8-12366d674741",
   "metadata": {},
   "source": [
    "### 2) Convert relevant columns to the appropriate data types:"
   ]
  },
  {
   "cell_type": "code",
   "execution_count": null,
   "id": "d1e768fc-1a2d-42f7-9b01-415a0d20e4fc",
   "metadata": {},
   "outputs": [],
   "source": [
    "#Let's get the data types of each attribute\n",
    "df.info()"
   ]
  },
  {
   "cell_type": "markdown",
   "id": "37a648e2-7f3f-4072-b2db-2515aa4d87ec",
   "metadata": {},
   "source": [
    "Here, for Date and Time I have 2 options:\n",
    "- Group the 2 columns into one column of data type: datetime.\n",
    "- Keep them seperated, and convert each one by itself.\n",
    "As there is some null values in the Time column, so I will go with the second choice."
   ]
  },
  {
   "cell_type": "raw",
   "id": "5f63181a-3c91-438b-b073-2c56222b23b5",
   "metadata": {},
   "source": [
    "df['Date'].dt.year\n",
    "#if you run the line at this stage, you'll get an 'AttributeError: Can only use .dt accessor with datetimelike values'"
   ]
  },
  {
   "cell_type": "code",
   "execution_count": null,
   "id": "2b059e10-e01a-40de-a81b-7f34d3b8c095",
   "metadata": {},
   "outputs": [],
   "source": [
    "#Convert Date:\n",
    "df['Date'] = pd.to_datetime(df['Date'])"
   ]
  },
  {
   "cell_type": "raw",
   "id": "cc62e6fb-230c-4e3c-97fb-6661421dd42e",
   "metadata": {},
   "source": [
    "#Now, if you run it here you will get the excpected result\n",
    "df['Date'].dt.year\n",
    "#Do the same with Time, example: use dt.hour before converting, you will get the same error\n",
    "Here in converting at this satge Ithe real-time Date is added, so I will let this column as object dtypes at this stage"
   ]
  },
  {
   "cell_type": "raw",
   "id": "7da4a933-6697-4789-9c31-e896a98fe74a",
   "metadata": {},
   "source": [
    "#Convert Time - AFTER...\n",
    "# df['Time'] = pd.to_datetime(df['Time'], errors='coerce') #to deal with null values\n",
    "# #df['Time'].dt.hour you get the expected output\n",
    "#df['Time'] = pd.to_datetime(df['Time'], format='%H:%M', errors='coerce')\n",
    "df['Time'] = pd.to_timedelta(df['Time'] + ':00')\n",
    "#df['Time'] = pd.to_timedelta(df['Time'])"
   ]
  },
  {
   "cell_type": "raw",
   "id": "c58b0486-86ab-47bd-9e71-19c39ed24115",
   "metadata": {},
   "source": [
    "df.head(5)"
   ]
  },
  {
   "cell_type": "code",
   "execution_count": null,
   "id": "c6e620ca-44f9-4ed4-a376-c0b68240259c",
   "metadata": {},
   "outputs": [],
   "source": [
    "#Convert to String\n",
    "df['Location'] = df['Location'].astype(\"string\")\n",
    "df['Operator'] = df['Operator'].astype(\"string\")\n",
    "df['Route'] = df['Route'].astype(\"string\")\n",
    "df['AC Type'] = df['AC Type'].astype(\"string\")\n",
    "df['Registration'] = df['Registration'].astype(\"string\")\n",
    "df['cn/ln'] = df['cn/ln'].astype(\"string\") #In the documentation, cn/ln is a serial number, and they're alphanumeric\n",
    "df['Summary'] = df['Summary'].astype(\"string\")\n",
    "#Convert to int64\n",
    "df['Aboard'] = df['Aboard'].astype('int64')\n",
    "df['Aboard Passangers'] = df['Aboard Passangers'].astype('int64')\n",
    "df['Aboard Crew'] = df['Aboard Crew'].astype('int64')\n",
    "df['Fatalities'] = df['Fatalities'].astype('int64')\n",
    "df['Fatalities Passangers'] = df['Fatalities Passangers'].astype('int64')\n",
    "df['Fatalities Crew'] = df['Fatalities Crew'].astype('int64')\n",
    "df['Ground'] = df['Ground'].astype('int64')\n",
    "print(\"Done...\")"
   ]
  },
  {
   "cell_type": "code",
   "execution_count": null,
   "id": "62b4533f-ac14-4ca7-8488-8d83ec6f9869",
   "metadata": {},
   "outputs": [],
   "source": [
    "df.info()"
   ]
  },
  {
   "cell_type": "markdown",
   "id": "7ac99179-3f68-4611-89ad-9aeac291c149",
   "metadata": {},
   "source": [
    "### 3) Check for and handle duplicate entries:"
   ]
  },
  {
   "cell_type": "code",
   "execution_count": null,
   "id": "11546aee-b900-4d29-a9d8-ed3cef292a79",
   "metadata": {},
   "outputs": [],
   "source": [
    "df.duplicated().sum()"
   ]
  },
  {
   "cell_type": "markdown",
   "id": "3a7e2a66-fbbb-492b-a4d9-84d8133a6194",
   "metadata": {},
   "source": [
    "As we see, there is no duplicated values, so **Data Cleaning** is *done*"
   ]
  },
  {
   "cell_type": "raw",
   "id": "81ba7dec-f940-41ee-9837-bfbfd039b15e",
   "metadata": {},
   "source": [
    "#Export cleaned data to use it in dash for Data Visualization\n",
    "df.to_csv('AbdessamadTzn_flightCrashes_cleanedData.csv', index=False)"
   ]
  },
  {
   "cell_type": "markdown",
   "id": "f9ae98d2-50b4-44de-8829-8bacfd18f32c",
   "metadata": {},
   "source": [
    "## Normalizing Data... (TODO)"
   ]
  },
  {
   "cell_type": "markdown",
   "id": "3ce6e1be-46f0-40a2-b088-65780018bcb8",
   "metadata": {},
   "source": [
    "## **II) Exploratory Data Analysis (EDA):**"
   ]
  },
  {
   "cell_type": "markdown",
   "id": "2c190b93-2239-444c-8770-f3bb4db40922",
   "metadata": {},
   "source": [
    "### **1) Distribution of Flight Crashes Over Time:**"
   ]
  },
  {
   "cell_type": "code",
   "execution_count": null,
   "id": "be7b98a8-b220-4fb1-bf13-271ee8ad5344",
   "metadata": {},
   "outputs": [],
   "source": [
    "df.head(2)"
   ]
  },
  {
   "cell_type": "raw",
   "id": "72aa32d5-4dfb-4645-aed8-e5741877fefc",
   "metadata": {},
   "source": [
    "#Export cleaned data to use it in dash for Data Visualization\n",
    "df.to_csv('AbdessamadTzn_FlightCrashes_cleanedData.csv', index=False)"
   ]
  },
  {
   "cell_type": "code",
   "execution_count": null,
   "id": "8394469f-c8a0-4b7a-a095-bc29da23d7d5",
   "metadata": {},
   "outputs": [],
   "source": [
    "#Number of accidents per year\n",
    "yearly_crash_counts = df.groupby(df['Date'].dt.year).count()\n",
    "plt.figure(figsize=(12, 6))\n",
    "plt.plot(yearly_crash_counts.index, yearly_crash_counts['Date'], marker='.', color='blue')\n",
    "plt.title('Distribution of Flight Crashes Over the years')\n",
    "plt.xlabel('Year')\n",
    "plt.ylabel('Number of Crashes')\n",
    "plt.grid(True)\n",
    "plt.show()"
   ]
  },
  {
   "cell_type": "markdown",
   "id": "7b12bb6f-77bb-4f59-99ef-3adf16b94895",
   "metadata": {},
   "source": [
    "There was a trend in crashes between 1940 and 2000, but in the 21st century we can see a marked decrease in flights crashes, thanks to technolgy."
   ]
  },
  {
   "cell_type": "code",
   "execution_count": null,
   "id": "3b3bad32-034f-4e80-92d5-079c763546ab",
   "metadata": {},
   "outputs": [],
   "source": [
    "df.head(2)"
   ]
  },
  {
   "cell_type": "markdown",
   "id": "edb08b16-e665-4b5d-a10b-690ddeb362aa",
   "metadata": {},
   "source": [
    "### **2) Analyze factors such as location, airline, aircraft type, and time of the year:**"
   ]
  },
  {
   "cell_type": "code",
   "execution_count": null,
   "id": "98fa6b9e-4a88-4308-889e-58b9111d0f69",
   "metadata": {},
   "outputs": [],
   "source": [
    "df.head(2)"
   ]
  },
  {
   "cell_type": "markdown",
   "id": "c51659a2-880c-47ca-94bf-c5114b4597c8",
   "metadata": {},
   "source": [
    "Let's produce an area plot showing top 5 regions where crashes happens, so we will look for most 5 frequent locations in the dataframe."
   ]
  },
  {
   "cell_type": "code",
   "execution_count": null,
   "id": "f81f1a80-a462-45a7-9080-ca31f3e4bd32",
   "metadata": {},
   "outputs": [],
   "source": [
    "#The most frequent one!\n",
    "df['Location'].value_counts().idxmax()"
   ]
  },
  {
   "cell_type": "code",
   "execution_count": null,
   "id": "8e3aab91-cc03-44a2-a1ce-3e1324124b96",
   "metadata": {},
   "outputs": [],
   "source": [
    "#MOst 5 common locaions\n",
    "top_5_locations_df = df['Location'].value_counts().head(5).reset_index()\n",
    "top_5_locations_df"
   ]
  },
  {
   "cell_type": "code",
   "execution_count": null,
   "id": "0aa62b5e-242c-4e9b-a143-d3a22f1b1981",
   "metadata": {},
   "outputs": [],
   "source": [
    "#top_5_locations_df.index = top_5_locations_df.index.map(int)\n",
    "top_5_locations_df.plot(kind='area',\n",
    "                        x='Location',\n",
    "                        stacked=False,\n",
    "                        figsize=(13, 5)\n",
    "                       )\n",
    "plt.title('Crashes Trend of most 5 common locations')\n",
    "plt.xlabel('Locations')\n",
    "plt.ylabel('Number of crashes')\n",
    "plt.show()"
   ]
  },
  {
   "cell_type": "code",
   "execution_count": null,
   "id": "10b210d5-1767-4e94-9dd4-2175801f0a8e",
   "metadata": {},
   "outputs": [],
   "source": [
    "#same for AC Type\n",
    "top5_AcType = df['AC Type'].value_counts().head(5).reset_index()\n",
    "top5_AcType"
   ]
  },
  {
   "cell_type": "markdown",
   "id": "d0ae3807-f6e0-4bbc-912b-4e0d4d57f121",
   "metadata": {},
   "source": [
    "Is there any relation between AC Type and the location/region?"
   ]
  },
  {
   "cell_type": "raw",
   "id": "46701491-5ffb-48c1-961b-3f02182f51ee",
   "metadata": {},
   "source": [
    "sns.scatterplot(data=df, x=\"Location\", y=\"AC \")"
   ]
  },
  {
   "cell_type": "code",
   "execution_count": null,
   "id": "928902fe-7bb3-42e9-bc7f-4c0a075bfccd",
   "metadata": {},
   "outputs": [],
   "source": [
    "#top_5_locations_df.index = top_5_locations_df.index.map(int)\n",
    "top5_AcType.plot(kind='area',\n",
    "                        x='AC Type',\n",
    "    stacked=False,\n",
    "    figsize=(13, 5)\n",
    ")\n",
    "plt.title('Most used AC Type in crashed airplanes')\n",
    "plt.xlabel('AC Type')\n",
    "plt.ylabel('Count')\n",
    "plt.show()"
   ]
  },
  {
   "cell_type": "markdown",
   "id": "5fd1aa17-5b27-4630-b7e4-229c0fe88e76",
   "metadata": {},
   "source": [
    "### **3) Investigate correlations between different variables:**"
   ]
  },
  {
   "cell_type": "code",
   "execution_count": null,
   "id": "6d507338-dbbe-42b3-a93a-ccf95ca31274",
   "metadata": {},
   "outputs": [],
   "source": [
    "#Aboard and Fatalities\n",
    "df['Aboard'].corr(df['Fatalities'])"
   ]
  },
  {
   "cell_type": "markdown",
   "id": "c9b453b8-a7ea-4c53-a25c-c1df9b501508",
   "metadata": {},
   "source": [
    "#### So, as we see there is strong correlation between Aboard and Ftalities.  \n",
    "\n",
    "#### Insted of invetigation 2 variables at one, better to use a heatmap to show all values of all variables then conclude."
   ]
  },
  {
   "cell_type": "code",
   "execution_count": null,
   "id": "9454704f-6d43-4429-9a95-1ca51b563779",
   "metadata": {},
   "outputs": [],
   "source": [
    "# Select numerical columns\n",
    "df_num = df.select_dtypes(include=['number'])\n",
    "\n",
    "# Remove Date/Time columns\n",
    "df_num = df_num.drop(columns=['Date', 'Time'], errors='ignore')\n",
    "\n",
    "# Calculate correlation\n",
    "corr_tab = df_num.corr()\n",
    "\n",
    "\n",
    "plt.figure(figsize=(10, 10))\n",
    "sns.heatmap(corr_tab, annot=True, cmap='coolwarm', fmt=\".2f\")  \n",
    "plt.title('Correlation Matrix')\n",
    "plt.show()\n"
   ]
  },
  {
   "cell_type": "markdown",
   "id": "9282fc76-fbd2-49a6-b3f2-1b7e0424e12d",
   "metadata": {},
   "source": [
    "#### **We can now plot reg plot to show the correlation (strong corr) is between:**  \n",
    "    - Aboard & Aboard Passangers\n",
    "    - Aboard & Fatalities \n",
    "    - Aboard & Fatalities Passangers\n",
    "    - Aboard Passangers & Fatalities\n",
    "    - Aboard Passangers & Fatalities Passangers\n",
    "    - Aboard Crew & Fatalities Crew\n",
    "    - Fatalities & Fataities Passangers\n",
    "We can conclude that Ground (Total killed on the ground), reference - DataSet docs, has no correlation with the number of people on the airplane, so I might assume that in 99% of airplanes crashes, the dead is in sky and not ground."
   ]
  },
  {
   "cell_type": "markdown",
   "id": "8d3e9a31-3db5-48dc-baee-92069980ac99",
   "metadata": {},
   "source": [
    "#### **3.1) Plots of correlation between variables:**"
   ]
  },
  {
   "cell_type": "markdown",
   "id": "f2766d6b-0395-4d3e-9e07-daa17c62c020",
   "metadata": {},
   "source": [
    "##### **3.1.1) Aboard & Aboard Passangers:**"
   ]
  },
  {
   "cell_type": "code",
   "execution_count": null,
   "id": "d558cdf3-8b29-4d81-a1e4-baf8a78104e4",
   "metadata": {},
   "outputs": [],
   "source": [
    "sns.regplot(x='Aboard', y='Aboard Passangers', data=df)\n",
    "plt.ylim(0, 600) #after plotting for the 1st time with radom limit, depending of limit of x-axis I edit the limit to be the same as x-axis for better plot\n",
    "plt.title('Correlation between Aboard & Aboard Passangers')\n",
    "plt.show()"
   ]
  },
  {
   "cell_type": "markdown",
   "id": "a27c4ba5-85a7-493d-8308-07528abe4622",
   "metadata": {},
   "source": [
    "##### **3.1.2) Aboard & Fatalities:**"
   ]
  },
  {
   "cell_type": "code",
   "execution_count": null,
   "id": "510ac7a5-9290-4334-a1c2-45ac18cbe906",
   "metadata": {},
   "outputs": [],
   "source": [
    "sns.regplot(x='Aboard', y='Fatalities', data=df)\n",
    "plt.ylim(0, 600) \n",
    "plt.title('Correlation between Aboard & Fatalities')\n",
    "plt.show()"
   ]
  },
  {
   "cell_type": "markdown",
   "id": "006877be-2060-4970-812f-830b617a87af",
   "metadata": {},
   "source": [
    "##### **3.1.3) Aboard & Fatalities Passengers:**"
   ]
  },
  {
   "cell_type": "code",
   "execution_count": null,
   "id": "86a01c79-0af7-45bc-ab7c-1a8b79eb8b55",
   "metadata": {},
   "outputs": [],
   "source": [
    "sns.regplot(x='Aboard', y='Fatalities Passangers', data=df)\n",
    "plt.ylim(0, 600) \n",
    "plt.title('Correlation between Aboard & Fatalities Passangers')\n",
    "plt.show()"
   ]
  },
  {
   "cell_type": "markdown",
   "id": "ea652df3-1197-4fdc-9ade-29cbbfeedc7d",
   "metadata": {},
   "source": [
    "##### **3.1.4) Aboard Passangers & Fatalities:**"
   ]
  },
  {
   "cell_type": "code",
   "execution_count": null,
   "id": "0556ba13-300e-4b04-bd89-57d94e42a56d",
   "metadata": {},
   "outputs": [],
   "source": [
    "sns.regplot(x='Aboard Passangers', y='Fatalities', data=df)\n",
    "plt.ylim(0, 600) \n",
    "plt.title('Correlation between Aboard Passangers & Fatalities')\n",
    "plt.show()"
   ]
  },
  {
   "cell_type": "markdown",
   "id": "420f9565-cd1a-4f1f-9692-c3599cb6afea",
   "metadata": {},
   "source": [
    "##### **3.1.5) Aboard Passangers & Fatalities Passangers:**"
   ]
  },
  {
   "cell_type": "code",
   "execution_count": null,
   "id": "0be3e7d9-b650-4679-ad4a-52b4b3c64056",
   "metadata": {},
   "outputs": [],
   "source": [
    "sns.regplot(x='Aboard Passangers', y='Fatalities Passangers', data=df)\n",
    "plt.ylim(0, 600) \n",
    "plt.title('Correlation between Aboard Passangers & Fatalities Passangers')\n",
    "plt.show()"
   ]
  },
  {
   "cell_type": "markdown",
   "id": "d7d0112e-5cf1-49c2-bb3e-d968ed53104d",
   "metadata": {},
   "source": [
    "##### **3.1.6) Aboard Crew & Fatalities Crew:**"
   ]
  },
  {
   "cell_type": "code",
   "execution_count": null,
   "id": "a1d0e44b-ce18-44e7-b1c1-62e42a35b493",
   "metadata": {},
   "outputs": [],
   "source": [
    "sns.regplot(x='Aboard Crew', y='Fatalities Crew', data=df)\n",
    "plt.ylim(0, 600) \n",
    "plt.title('Correlation between Aboard Crew & Fatalities Crew')\n",
    "plt.show()"
   ]
  },
  {
   "cell_type": "markdown",
   "id": "d6b726d1-c80f-48d3-9753-630adfdfde18",
   "metadata": {},
   "source": [
    "##### **3.1.7) Fatalities & Fataities Passangers:**"
   ]
  },
  {
   "cell_type": "code",
   "execution_count": null,
   "id": "17d89604-73bd-4969-96f5-68e79b959f17",
   "metadata": {},
   "outputs": [],
   "source": [
    "sns.regplot(x='Fatalities', y='Fatalities Passangers', data=df)\n",
    "plt.ylim(0, 600) \n",
    "plt.title('Correlation between Fatalities & Fataities Passangers')\n",
    "plt.show()"
   ]
  },
  {
   "cell_type": "markdown",
   "id": "010a986e-696e-4557-80b6-d7504628df59",
   "metadata": {},
   "source": [
    "#### **3.2) Pearson Correlation coefficient 'r' & its associated P-value:**"
   ]
  },
  {
   "cell_type": "markdown",
   "id": "716eb51d-3c4c-4c0f-8617-28145305bdaa",
   "metadata": {},
   "source": [
    "r: measure of linear relationship between 2 variables, range -> -1 to 1  \n",
    "p: significance of the correlation"
   ]
  },
  {
   "cell_type": "markdown",
   "id": "f0c0f22d-4415-4268-b2bf-c0b62e7189e5",
   "metadata": {},
   "source": [
    "**Let's calculate r & p for vriables and conclude**"
   ]
  },
  {
   "cell_type": "code",
   "execution_count": null,
   "id": "8370a3b7-0231-4739-bc13-8b6b3eb84c32",
   "metadata": {},
   "outputs": [],
   "source": [
    "from scipy.stats import pearsonr"
   ]
  },
  {
   "cell_type": "markdown",
   "id": "4d382420-c6ea-4f34-b239-0e6d9312e8ef",
   "metadata": {},
   "source": [
    "##### **3.2.1) Aboard & Aboard Passangers:**"
   ]
  },
  {
   "cell_type": "code",
   "execution_count": null,
   "id": "99805f50-076a-4349-970a-2f77b85ceae4",
   "metadata": {},
   "outputs": [],
   "source": [
    "r, p_value = pearsonr(df['Aboard'], df['Aboard Passangers'])\n",
    "print(\"r value is: \",r)\n",
    "print(\"P value is: \", p_value)"
   ]
  },
  {
   "cell_type": "markdown",
   "id": "b158b78d-6a88-4828-9227-318d63a33a66",
   "metadata": {},
   "source": [
    "**r value is ~1 so it's a strong positive linear relationship between teh 2 variables, and the p value that == 0, means tha this strong relationship is unlikely to have occured by chance; it suggests a strong and statistically significant linear relationship, between Aboard & Aboard Passangers.**"
   ]
  },
  {
   "cell_type": "markdown",
   "id": "f9a1ed54-9221-43da-aab0-f86bc471beef",
   "metadata": {},
   "source": [
    "##### **3.2.2) Aboard & Fatalities:**"
   ]
  },
  {
   "cell_type": "code",
   "execution_count": null,
   "id": "81b3e6c9-e8d7-4dfc-b2f6-03da0f1e8656",
   "metadata": {},
   "outputs": [],
   "source": [
    "r, p_value = pearsonr(df['Aboard'], df['Fatalities'])\n",
    "print(\"r value is: \",r)\n",
    "print(\"P value is: \", p_value)"
   ]
  },
  {
   "cell_type": "markdown",
   "id": "201ad86e-b2a9-4d44-8191-53a90aca903b",
   "metadata": {},
   "source": [
    "**We can have the same conclusion based on same logic of the previous: Strong and statistically significant linear relationship, between Aboard & Fatalities.**"
   ]
  },
  {
   "cell_type": "markdown",
   "id": "06a1eef4-6d69-44ec-a814-f4d77df035f9",
   "metadata": {},
   "source": [
    "##### **3.2.3) Aboard & Fatalities Passangers:**"
   ]
  },
  {
   "cell_type": "code",
   "execution_count": null,
   "id": "c6f751b9-70a4-4b5d-8b36-7287785cb50f",
   "metadata": {},
   "outputs": [],
   "source": [
    "r, p_value = pearsonr(df['Aboard'], df['Fatalities Passangers'])\n",
    "print(\"r value is: \",r)\n",
    "print(\"P value is: \", p_value)"
   ]
  },
  {
   "cell_type": "markdown",
   "id": "6e346b86-3992-449a-a653-c5acc7ad12c4",
   "metadata": {},
   "source": [
    "**We can have the same conclusion based on same logic of the previous: Strong and statistically significant linear relationship, between Aboard & Fatalities Passangers.**"
   ]
  },
  {
   "cell_type": "markdown",
   "id": "87c844af-5dd4-4bab-b7ca-9882eaa3b634",
   "metadata": {},
   "source": [
    "##### **3.2.1) Aboard Passangers & Fatalities:**"
   ]
  },
  {
   "cell_type": "code",
   "execution_count": null,
   "id": "2ed853a2-3334-4f5d-b1db-a4e2d2291df8",
   "metadata": {},
   "outputs": [],
   "source": [
    "r, p_value = pearsonr(df['Aboard Passangers'], df['Fatalities'])\n",
    "print(\"r value is: \",r)\n",
    "print(\"P value is: \", p_value)"
   ]
  },
  {
   "cell_type": "markdown",
   "id": "196b407e-05b9-4b2c-8939-f8ed60d2ae67",
   "metadata": {},
   "source": [
    "**We can have the same conclusion based on same logic of the previous: Strong and statistically significant linear relationship, between Aboard Passangers & Fatalities.**"
   ]
  },
  {
   "cell_type": "markdown",
   "id": "13a1491d-c3f0-46f7-b28e-dc1f5eb33d28",
   "metadata": {},
   "source": [
    "##### **3.2.1) Aboard Passangers & Fatalities Passangers:**"
   ]
  },
  {
   "cell_type": "code",
   "execution_count": null,
   "id": "c7ac1ca8-b696-449a-9ec3-90e4fcc21dc3",
   "metadata": {},
   "outputs": [],
   "source": [
    "r, p_value = pearsonr(df['Aboard Passangers'], df['Fatalities Passangers'])\n",
    "print(\"r value is: \",r)\n",
    "print(\"P value is: \", p_value)"
   ]
  },
  {
   "cell_type": "markdown",
   "id": "17dca013-b7dc-4fe6-8729-00845c24ae37",
   "metadata": {},
   "source": [
    "**We can have the same conclusion based on same logic of the previous: Strong and statistically significant linear relationship, between Aboard Passangers & Fatalities Passangers.**"
   ]
  },
  {
   "cell_type": "markdown",
   "id": "7ebf855f-56ce-4ae6-8f71-34ff13b90cad",
   "metadata": {},
   "source": [
    "##### **3.2.1) Aboard Crew & Fatalities Crew:**"
   ]
  },
  {
   "cell_type": "code",
   "execution_count": null,
   "id": "6a428c31-59dc-445e-a0c9-8b4d9f0c0deb",
   "metadata": {},
   "outputs": [],
   "source": [
    "r, p_value = pearsonr(df['Aboard Crew'], df['Fatalities Crew'])\n",
    "print(\"r value is: \",r)\n",
    "print(\"P value is: \", p_value)"
   ]
  },
  {
   "cell_type": "markdown",
   "id": "fa370b58-db66-401f-9f0c-b0f5a857be04",
   "metadata": {},
   "source": [
    "**We can have the same conclusion based on same logic of the previous: Strong and statistically significant linear relationship, between Aboard Crew & Fatalities Crew.**"
   ]
  },
  {
   "cell_type": "markdown",
   "id": "9de704e2-ca6f-4f40-a480-47a73ec4f267",
   "metadata": {},
   "source": [
    "##### **3.2.1) Fatalities & Fataities Passangers:**"
   ]
  },
  {
   "cell_type": "code",
   "execution_count": null,
   "id": "eba198f2-85cc-4ff1-9d58-9db4df73ab06",
   "metadata": {},
   "outputs": [],
   "source": [
    "r, p_value = pearsonr(df['Fatalities'], df['Fatalities Passangers'])\n",
    "print(\"r value is: \",r)\n",
    "print(\"P value is: \", p_value)"
   ]
  },
  {
   "cell_type": "markdown",
   "id": "5a5d668d-63db-4d0b-b05b-42cb36c6cb41",
   "metadata": {},
   "source": [
    "**We can have the same conclusion based on same logic of the previous: Strong and statistically significant linear relationship, between Fatalities & Fataities Passangers.**"
   ]
  },
  {
   "cell_type": "markdown",
   "id": "5902b9a4-7dd6-4b63-b5bd-98baa90b78bd",
   "metadata": {},
   "source": [
    "## **III) Data Visualization:**"
   ]
  },
  {
   "cell_type": "markdown",
   "id": "c689ccb3-7704-4eeb-b135-7452d7c2752d",
   "metadata": {},
   "source": [
    "##### **Word Clouds for crashes's summary:**"
   ]
  },
  {
   "cell_type": "code",
   "execution_count": null,
   "id": "b61d4696-b8f6-4403-8d1c-7b49344f0e2c",
   "metadata": {},
   "outputs": [],
   "source": [
    "!pip install wordcloud"
   ]
  },
  {
   "cell_type": "markdown",
   "id": "d67c337d-e319-4543-81cd-1c236d483688",
   "metadata": {},
   "source": [
    "## **By: [Abdessamad Touzani](https://www.linkedin.com/in/abdessamadtouzani/)**"
   ]
  }
 ],
 "metadata": {
  "kernelspec": {
   "display_name": "Python 3 (ipykernel)",
   "language": "python",
   "name": "python3"
  },
  "language_info": {
   "codemirror_mode": {
    "name": "ipython",
    "version": 3
   },
   "file_extension": ".py",
   "mimetype": "text/x-python",
   "name": "python",
   "nbconvert_exporter": "python",
   "pygments_lexer": "ipython3",
   "version": "3.11.5"
  }
 },
 "nbformat": 4,
 "nbformat_minor": 5
}
