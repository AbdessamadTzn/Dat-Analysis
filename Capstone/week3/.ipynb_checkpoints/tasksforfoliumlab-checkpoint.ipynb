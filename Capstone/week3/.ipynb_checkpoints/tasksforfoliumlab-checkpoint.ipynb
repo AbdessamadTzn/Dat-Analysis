{
  "metadata": {
    "kernelspec": {
      "name": "python",
      "display_name": "Python (Pyodide)",
      "language": "python"
    },
    "language_info": {
      "codemirror_mode": {
        "name": "python",
        "version": 3
      },
      "file_extension": ".py",
      "mimetype": "text/x-python",
      "name": "python",
      "nbconvert_exporter": "python",
      "pygments_lexer": "ipython3",
      "version": "3.8"
    }
  },
  "nbformat_minor": 4,
  "nbformat": 4,
  "cells": [
    {
      "cell_type": "markdown",
      "source": "<p style=\"text-align:center\">\n    <a href=\"https://skills.network/?utm_medium=Exinfluencer&utm_source=Exinfluencer&utm_content=000026UJ&utm_term=10006555&utm_id=NA-SkillsNetwork-Channel-SkillsNetworkCoursesIBMDS0321ENSkillsNetwork26802033-2022-01-01\" target=\"_blank\">\n    <img src=\"https://cf-courses-data.s3.us.cloud-object-storage.appdomain.cloud/assets/logos/SN_web_lightmode.png\" width=\"200\" alt=\"Skills Network Logo\"  />\n    </a>\n</p>\n",
      "metadata": {}
    },
    {
      "cell_type": "markdown",
      "source": "# **Launch Sites Locations Analysis with Folium**\n",
      "metadata": {}
    },
    {
      "cell_type": "markdown",
      "source": "Estimated time needed: **40** minutes\n",
      "metadata": {}
    },
    {
      "cell_type": "markdown",
      "source": "The launch success rate may depend on many factors such as payload mass, orbit type, and so on. It may also depend on the location and proximities of a launch site, i.e., the initial position of rocket trajectories. Finding an optimal location for building a launch site certainly involves many factors and hopefully we could discover some of the factors by analyzing the existing launch site locations.\n",
      "metadata": {}
    },
    {
      "cell_type": "markdown",
      "source": "In the previous exploratory data analysis labs, you have visualized the SpaceX launch dataset using `matplotlib` and `seaborn` and discovered some preliminary correlations between the launch site and success rates. In this lab, you will be performing more interactive visual analytics using `Folium`.\n",
      "metadata": {}
    },
    {
      "cell_type": "markdown",
      "source": "## Objectives\n",
      "metadata": {}
    },
    {
      "cell_type": "markdown",
      "source": "This lab contains the following tasks:\n\n*   **TASK 1:** Mark all launch sites on a map\n*   **TASK 2:** Mark the success/failed launches for each site on the map\n*   **TASK 3:** Calculate the distances between a launch site to its proximities\n\nAfter completed the above tasks, you should be able to find some geographical patterns about launch sites.\n",
      "metadata": {}
    },
    {
      "cell_type": "markdown",
      "source": "Let's first import required Python packages for this lab:\n",
      "metadata": {}
    },
    {
      "cell_type": "code",
      "source": "import piplite\nawait piplite.install(['folium'])\nawait piplite.install(['pandas'])",
      "metadata": {
        "trusted": true
      },
      "outputs": [],
      "execution_count": null
    },
    {
      "cell_type": "code",
      "source": "import folium\nimport pandas as pd",
      "metadata": {
        "trusted": true
      },
      "outputs": [],
      "execution_count": 2
    },
    {
      "cell_type": "code",
      "source": "# Import folium MarkerCluster plugin\nfrom folium.plugins import MarkerCluster\n# Import folium MousePosition plugin\nfrom folium.plugins import MousePosition\n# Import folium DivIcon plugin\nfrom folium.features import DivIcon",
      "metadata": {
        "trusted": true
      },
      "outputs": [],
      "execution_count": 3
    },
    {
      "cell_type": "markdown",
      "source": "If you need to refresh your memory about folium, you may download and refer to this previous folium lab:\n",
      "metadata": {}
    },
    {
      "cell_type": "markdown",
      "source": "[Generating Maps with Python](https://cf-courses-data.s3.us.cloud-object-storage.appdomain.cloud/IBM-DS0321EN-SkillsNetwork/labs/module\\_3/DV0101EN-3-5-1-Generating-Maps-in-Python-py-v2.0.ipynb)\n",
      "metadata": {}
    },
    {
      "cell_type": "code",
      "source": "## Task 1: Mark all launch sites on a map\nlaunch_map = Folium.Map()",
      "metadata": {},
      "outputs": [],
      "execution_count": null
    },
    {
      "cell_type": "markdown",
      "source": "First, let's try to add each site's location on a map using site's latitude and longitude coordinates\n",
      "metadata": {}
    },
    {
      "cell_type": "markdown",
      "source": "The following dataset with the name `spacex_launch_geo.csv` is an augmented dataset with latitude and longitude added for each site.\n",
      "metadata": {}
    },
    {
      "cell_type": "code",
      "source": "# Download and read the `spacex_launch_geo.csv`\nfrom js import fetch\nimport io\n\nURL = 'https://cf-courses-data.s3.us.cloud-object-storage.appdomain.cloud/IBM-DS0321EN-SkillsNetwork/datasets/spacex_launch_geo.csv'\nresp = await fetch(URL)\nspacex_csv_file = io.BytesIO((await resp.arrayBuffer()).to_py())\nspacex_df=pd.read_csv(spacex_csv_file)",
      "metadata": {
        "trusted": true
      },
      "outputs": [],
      "execution_count": 4
    },
    {
      "cell_type": "markdown",
      "source": "Now, you can take a look at what are the coordinates for each site.\n",
      "metadata": {}
    },
    {
      "cell_type": "code",
      "source": "# Select relevant sub-columns: `Launch Site`, `Lat(Latitude)`, `Long(Longitude)`, `class`\nspacex_df = spacex_df[['Launch Site', 'Lat', 'Long', 'class']]\nlaunch_sites_df = spacex_df.groupby(['Launch Site'], as_index=False).first()\nlaunch_sites_df = launch_sites_df[['Launch Site', 'Lat', 'Long']]\nlaunch_sites_df",
      "metadata": {
        "trusted": true
      },
      "outputs": [
        {
          "execution_count": 5,
          "output_type": "execute_result",
          "data": {
            "text/plain": "    Launch Site        Lat        Long\n0   CCAFS LC-40  28.562302  -80.577356\n1  CCAFS SLC-40  28.563197  -80.576820\n2    KSC LC-39A  28.573255  -80.646895\n3   VAFB SLC-4E  34.632834 -120.610745",
            "text/html": "<div>\n<style scoped>\n    .dataframe tbody tr th:only-of-type {\n        vertical-align: middle;\n    }\n\n    .dataframe tbody tr th {\n        vertical-align: top;\n    }\n\n    .dataframe thead th {\n        text-align: right;\n    }\n</style>\n<table border=\"1\" class=\"dataframe\">\n  <thead>\n    <tr style=\"text-align: right;\">\n      <th></th>\n      <th>Launch Site</th>\n      <th>Lat</th>\n      <th>Long</th>\n    </tr>\n  </thead>\n  <tbody>\n    <tr>\n      <th>0</th>\n      <td>CCAFS LC-40</td>\n      <td>28.562302</td>\n      <td>-80.577356</td>\n    </tr>\n    <tr>\n      <th>1</th>\n      <td>CCAFS SLC-40</td>\n      <td>28.563197</td>\n      <td>-80.576820</td>\n    </tr>\n    <tr>\n      <th>2</th>\n      <td>KSC LC-39A</td>\n      <td>28.573255</td>\n      <td>-80.646895</td>\n    </tr>\n    <tr>\n      <th>3</th>\n      <td>VAFB SLC-4E</td>\n      <td>34.632834</td>\n      <td>-120.610745</td>\n    </tr>\n  </tbody>\n</table>\n</div>"
          },
          "metadata": {}
        }
      ],
      "execution_count": 5
    },
    {
      "cell_type": "markdown",
      "source": "Above coordinates are just plain numbers that can not give you any intuitive insights about where are those launch sites. If you are very good at geography, you can interpret those numbers directly in your mind. If not, that's fine too. Let's visualize those locations by pinning them on a map.\n",
      "metadata": {}
    },
    {
      "cell_type": "markdown",
      "source": "We first need to create a folium `Map` object, with an initial center location to be NASA Johnson Space Center at Houston, Texas.\n",
      "metadata": {}
    },
    {
      "cell_type": "code",
      "source": "# Start location is NASA Johnson Space Center\nnasa_coordinate = [29.559684888503615, -95.0830971930759]\nsite_map = folium.Map(location=nasa_coordinate, zoom_start=10)",
      "metadata": {
        "trusted": true
      },
      "outputs": [],
      "execution_count": 6
    },
    {
      "cell_type": "markdown",
      "source": "We could use `folium.Circle` to add a highlighted circle area with a text label on a specific coordinate. For example,\n",
      "metadata": {}
    },
    {
      "cell_type": "code",
      "source": "# Create a blue circle at NASA Johnson Space Center's coordinate with a popup label showing its name\ncircle = folium.Circle(nasa_coordinate, radius=1000, color='#d35400', fill=True).add_child(folium.Popup('NASA Johnson Space Center'))\n# Create a blue circle at NASA Johnson Space Center's coordinate with a icon showing its name\nmarker = folium.map.Marker(\n    nasa_coordinate,\n    # Create an icon as a text label\n    icon=DivIcon(\n        icon_size=(20,20),\n        icon_anchor=(0,0),\n        html='<div style=\"font-size: 12; color:#d35400;\"><b>%s</b></div>' % 'NASA JSC',\n        )\n    )\nsite_map.add_child(circle)\nsite_map.add_child(marker)",
      "metadata": {
        "trusted": true
      },
      "outputs": [
        {
          "execution_count": 10,
          "output_type": "execute_result",
          "data": {
            "text/plain": "<folium.folium.Map at 0x1f9f570>",
            "text/html": "<div style=\"width:100%;\"><div style=\"position:relative;width:100%;height:0;padding-bottom:60%;\"><span style=\"color:#565656\">Make this Notebook Trusted to load map: File -> Trust Notebook</span><iframe srcdoc=\"&lt;!DOCTYPE html&gt;\n&lt;html&gt;\n&lt;head&gt;\n    \n    &lt;meta http-equiv=&quot;content-type&quot; content=&quot;text/html; charset=UTF-8&quot; /&gt;\n    \n        &lt;script&gt;\n            L_NO_TOUCH = false;\n            L_DISABLE_3D = false;\n        &lt;/script&gt;\n    \n    &lt;style&gt;html, body {width: 100%;height: 100%;margin: 0;padding: 0;}&lt;/style&gt;\n    &lt;style&gt;#map {position:absolute;top:0;bottom:0;right:0;left:0;}&lt;/style&gt;\n    &lt;script src=&quot;https://cdn.jsdelivr.net/npm/leaflet@1.9.3/dist/leaflet.js&quot;&gt;&lt;/script&gt;\n    &lt;script src=&quot;https://code.jquery.com/jquery-3.7.1.min.js&quot;&gt;&lt;/script&gt;\n    &lt;script src=&quot;https://cdn.jsdelivr.net/npm/bootstrap@5.2.2/dist/js/bootstrap.bundle.min.js&quot;&gt;&lt;/script&gt;\n    &lt;script src=&quot;https://cdnjs.cloudflare.com/ajax/libs/Leaflet.awesome-markers/2.0.2/leaflet.awesome-markers.js&quot;&gt;&lt;/script&gt;\n    &lt;link rel=&quot;stylesheet&quot; href=&quot;https://cdn.jsdelivr.net/npm/leaflet@1.9.3/dist/leaflet.css&quot;/&gt;\n    &lt;link rel=&quot;stylesheet&quot; href=&quot;https://cdn.jsdelivr.net/npm/bootstrap@5.2.2/dist/css/bootstrap.min.css&quot;/&gt;\n    &lt;link rel=&quot;stylesheet&quot; href=&quot;https://netdna.bootstrapcdn.com/bootstrap/3.0.0/css/bootstrap.min.css&quot;/&gt;\n    &lt;link rel=&quot;stylesheet&quot; href=&quot;https://cdn.jsdelivr.net/npm/@fortawesome/fontawesome-free@6.2.0/css/all.min.css&quot;/&gt;\n    &lt;link rel=&quot;stylesheet&quot; href=&quot;https://cdnjs.cloudflare.com/ajax/libs/Leaflet.awesome-markers/2.0.2/leaflet.awesome-markers.css&quot;/&gt;\n    &lt;link rel=&quot;stylesheet&quot; href=&quot;https://cdn.jsdelivr.net/gh/python-visualization/folium/folium/templates/leaflet.awesome.rotate.min.css&quot;/&gt;\n    \n            &lt;meta name=&quot;viewport&quot; content=&quot;width=device-width,\n                initial-scale=1.0, maximum-scale=1.0, user-scalable=no&quot; /&gt;\n            &lt;style&gt;\n                #map_27e3614a75ab0f6e527735677abeb865 {\n                    position: relative;\n                    width: 100.0%;\n                    height: 100.0%;\n                    left: 0.0%;\n                    top: 0.0%;\n                }\n                .leaflet-container { font-size: 1rem; }\n            &lt;/style&gt;\n        \n&lt;/head&gt;\n&lt;body&gt;\n    \n    \n            &lt;div class=&quot;folium-map&quot; id=&quot;map_27e3614a75ab0f6e527735677abeb865&quot; &gt;&lt;/div&gt;\n        \n&lt;/body&gt;\n&lt;script&gt;\n    \n    \n            var map_27e3614a75ab0f6e527735677abeb865 = L.map(\n                &quot;map_27e3614a75ab0f6e527735677abeb865&quot;,\n                {\n                    center: [29.559684888503615, -95.0830971930759],\n                    crs: L.CRS.EPSG3857,\n                    zoom: 10,\n                    zoomControl: true,\n                    preferCanvas: false,\n                }\n            );\n\n            \n\n        \n    \n            var tile_layer_ec8abeccd583340d389c53578a968dcf = L.tileLayer(\n                &quot;https://tile.openstreetmap.org/{z}/{x}/{y}.png&quot;,\n                {&quot;attribution&quot;: &quot;\\u0026copy; \\u003ca href=\\&quot;https://www.openstreetmap.org/copyright\\&quot;\\u003eOpenStreetMap\\u003c/a\\u003e contributors&quot;, &quot;detectRetina&quot;: false, &quot;maxNativeZoom&quot;: 19, &quot;maxZoom&quot;: 19, &quot;minZoom&quot;: 0, &quot;noWrap&quot;: false, &quot;opacity&quot;: 1, &quot;subdomains&quot;: &quot;abc&quot;, &quot;tms&quot;: false}\n            );\n        \n    \n            tile_layer_ec8abeccd583340d389c53578a968dcf.addTo(map_27e3614a75ab0f6e527735677abeb865);\n        \n    \n            tile_layer_ec8abeccd583340d389c53578a968dcf.addTo(map_27e3614a75ab0f6e527735677abeb865);\n        \n    \n            var circle_d329171cee57d20754f5148f19d063a1 = L.circle(\n                [29.559684888503615, -95.0830971930759],\n                {&quot;bubblingMouseEvents&quot;: true, &quot;color&quot;: &quot;#d35400&quot;, &quot;dashArray&quot;: null, &quot;dashOffset&quot;: null, &quot;fill&quot;: true, &quot;fillColor&quot;: &quot;#d35400&quot;, &quot;fillOpacity&quot;: 0.2, &quot;fillRule&quot;: &quot;evenodd&quot;, &quot;lineCap&quot;: &quot;round&quot;, &quot;lineJoin&quot;: &quot;round&quot;, &quot;opacity&quot;: 1.0, &quot;radius&quot;: 1000, &quot;stroke&quot;: true, &quot;weight&quot;: 3}\n            ).addTo(map_27e3614a75ab0f6e527735677abeb865);\n        \n    \n        var popup_93e21868a8d84f505c1542f2525ac3a9 = L.popup({&quot;maxWidth&quot;: &quot;100%&quot;});\n\n        \n            \n                var html_8f472c4098b8ca3157383758ac769229 = $(`&lt;div id=&quot;html_8f472c4098b8ca3157383758ac769229&quot; style=&quot;width: 100.0%; height: 100.0%;&quot;&gt;NASA Johnson Space Center&lt;/div&gt;`)[0];\n                popup_93e21868a8d84f505c1542f2525ac3a9.setContent(html_8f472c4098b8ca3157383758ac769229);\n            \n        \n\n        circle_d329171cee57d20754f5148f19d063a1.bindPopup(popup_93e21868a8d84f505c1542f2525ac3a9)\n        ;\n\n        \n    \n    \n            var marker_d2f3443391e59b96d20ec36a591711ca = L.marker(\n                [29.559684888503615, -95.0830971930759],\n                {}\n            ).addTo(map_27e3614a75ab0f6e527735677abeb865);\n        \n    \n            var div_icon_89b28037c030fbc51d98ad69ba34c163 = L.divIcon({&quot;className&quot;: &quot;empty&quot;, &quot;html&quot;: &quot;\\u003cdiv style=\\&quot;font-size: 12; color:#d35400;\\&quot;\\u003e\\u003cb\\u003eNASA JSC\\u003c/b\\u003e\\u003c/div\\u003e&quot;, &quot;iconAnchor&quot;: [0, 0], &quot;iconSize&quot;: [20, 20]});\n            marker_d2f3443391e59b96d20ec36a591711ca.setIcon(div_icon_89b28037c030fbc51d98ad69ba34c163);\n        \n    \n            tile_layer_ec8abeccd583340d389c53578a968dcf.addTo(map_27e3614a75ab0f6e527735677abeb865);\n        \n    \n            var circle_b5a61bdd27d99ebbdf97bfa7c5a04123 = L.circle(\n                [29.559684888503615, -95.0830971930759],\n                {&quot;bubblingMouseEvents&quot;: true, &quot;color&quot;: &quot;#d35400&quot;, &quot;dashArray&quot;: null, &quot;dashOffset&quot;: null, &quot;fill&quot;: true, &quot;fillColor&quot;: &quot;#d35400&quot;, &quot;fillOpacity&quot;: 0.2, &quot;fillRule&quot;: &quot;evenodd&quot;, &quot;lineCap&quot;: &quot;round&quot;, &quot;lineJoin&quot;: &quot;round&quot;, &quot;opacity&quot;: 1.0, &quot;radius&quot;: 1000, &quot;stroke&quot;: true, &quot;weight&quot;: 3}\n            ).addTo(map_27e3614a75ab0f6e527735677abeb865);\n        \n    \n        var popup_f573e815ce5d703ef0764dfadfec7ccf = L.popup({&quot;maxWidth&quot;: &quot;100%&quot;});\n\n        \n            \n                var html_e0fe5defe2c341a82bed332bfef7ee21 = $(`&lt;div id=&quot;html_e0fe5defe2c341a82bed332bfef7ee21&quot; style=&quot;width: 100.0%; height: 100.0%;&quot;&gt;NASA Johnson Space Center&lt;/div&gt;`)[0];\n                popup_f573e815ce5d703ef0764dfadfec7ccf.setContent(html_e0fe5defe2c341a82bed332bfef7ee21);\n            \n        \n\n        circle_b5a61bdd27d99ebbdf97bfa7c5a04123.bindPopup(popup_f573e815ce5d703ef0764dfadfec7ccf)\n        ;\n\n        \n    \n    \n            var marker_0829f009fe57109666d5c78f0f1e12b6 = L.marker(\n                [29.559684888503615, -95.0830971930759],\n                {}\n            ).addTo(map_27e3614a75ab0f6e527735677abeb865);\n        \n    \n            var div_icon_8f47a8c5e536d29f3ade89ec9c4abfda = L.divIcon({&quot;className&quot;: &quot;empty&quot;, &quot;html&quot;: &quot;\\u003cdiv style=\\&quot;font-size: 12; color:#d35400;\\&quot;\\u003e\\u003cb\\u003eNASA JSC\\u003c/b\\u003e\\u003c/div\\u003e&quot;, &quot;iconAnchor&quot;: [0, 0], &quot;iconSize&quot;: [20, 20]});\n            marker_0829f009fe57109666d5c78f0f1e12b6.setIcon(div_icon_8f47a8c5e536d29f3ade89ec9c4abfda);\n        \n    \n            tile_layer_ec8abeccd583340d389c53578a968dcf.addTo(map_27e3614a75ab0f6e527735677abeb865);\n        \n    \n            var circle_4d987be40a422d7863485d9af132790c = L.circle(\n                [29.559684888503615, -95.0830971930759],\n                {&quot;bubblingMouseEvents&quot;: true, &quot;color&quot;: &quot;#d35400&quot;, &quot;dashArray&quot;: null, &quot;dashOffset&quot;: null, &quot;fill&quot;: true, &quot;fillColor&quot;: &quot;#d35400&quot;, &quot;fillOpacity&quot;: 0.2, &quot;fillRule&quot;: &quot;evenodd&quot;, &quot;lineCap&quot;: &quot;round&quot;, &quot;lineJoin&quot;: &quot;round&quot;, &quot;opacity&quot;: 1.0, &quot;radius&quot;: 1000, &quot;stroke&quot;: true, &quot;weight&quot;: 3}\n            ).addTo(map_27e3614a75ab0f6e527735677abeb865);\n        \n    \n        var popup_6d1fe4c5a745f3b8e48b6c62605fe14c = L.popup({&quot;maxWidth&quot;: &quot;100%&quot;});\n\n        \n            \n                var html_96b54271b56d3291d429edbd3d997dfe = $(`&lt;div id=&quot;html_96b54271b56d3291d429edbd3d997dfe&quot; style=&quot;width: 100.0%; height: 100.0%;&quot;&gt;NASA Johnson Space Center&lt;/div&gt;`)[0];\n                popup_6d1fe4c5a745f3b8e48b6c62605fe14c.setContent(html_96b54271b56d3291d429edbd3d997dfe);\n            \n        \n\n        circle_4d987be40a422d7863485d9af132790c.bindPopup(popup_6d1fe4c5a745f3b8e48b6c62605fe14c)\n        ;\n\n        \n    \n    \n            var marker_28aecd8221ac36bd4634f8521c3776fd = L.marker(\n                [29.559684888503615, -95.0830971930759],\n                {}\n            ).addTo(map_27e3614a75ab0f6e527735677abeb865);\n        \n    \n            var div_icon_40851989ecf01d3a2bea56cfdc67ecbd = L.divIcon({&quot;className&quot;: &quot;empty&quot;, &quot;html&quot;: &quot;\\u003cdiv style=\\&quot;font-size: 12; color:#d35400;\\&quot;\\u003e\\u003cb\\u003eNASA JSC\\u003c/b\\u003e\\u003c/div\\u003e&quot;, &quot;iconAnchor&quot;: [0, 0], &quot;iconSize&quot;: [20, 20]});\n            marker_28aecd8221ac36bd4634f8521c3776fd.setIcon(div_icon_40851989ecf01d3a2bea56cfdc67ecbd);\n        \n&lt;/script&gt;\n&lt;/html&gt;\" style=\"position:absolute;width:100%;height:100%;left:0;top:0;border:none !important;\" allowfullscreen webkitallowfullscreen mozallowfullscreen></iframe></div></div>"
          },
          "metadata": {}
        }
      ],
      "execution_count": 10
    },
    {
      "cell_type": "markdown",
      "source": "and you should find a small yellow circle near the city of Houston and you can zoom-in to see a larger circle.\n",
      "metadata": {}
    },
    {
      "cell_type": "markdown",
      "source": "Now, let's add a circle for each launch site in data frame `launch_sites`\n",
      "metadata": {}
    },
    {
      "cell_type": "markdown",
      "source": "*TODO:*  Create and add `folium.Circle` and `folium.Marker` for each launch site on the site map\n",
      "metadata": {}
    },
    {
      "cell_type": "markdown",
      "source": "An example of folium.Circle:\n",
      "metadata": {}
    },
    {
      "cell_type": "markdown",
      "source": "`folium.Circle(coordinate, radius=1000, color='#000000', fill=True).add_child(folium.Popup(...))`\n",
      "metadata": {}
    },
    {
      "cell_type": "markdown",
      "source": "An example of folium.Marker:\n",
      "metadata": {}
    },
    {
      "cell_type": "markdown",
      "source": "`folium.map.Marker(coordinate, icon=DivIcon(icon_size=(20,20),icon_anchor=(0,0), html='<div style=\"font-size: 12; color:#d35400;\"><b>%s</b></div>' % 'label', ))`\n",
      "metadata": {}
    },
    {
      "cell_type": "code",
      "source": "launch_sites_df",
      "metadata": {
        "trusted": true
      },
      "outputs": [
        {
          "execution_count": 11,
          "output_type": "execute_result",
          "data": {
            "text/plain": "    Launch Site        Lat        Long\n0   CCAFS LC-40  28.562302  -80.577356\n1  CCAFS SLC-40  28.563197  -80.576820\n2    KSC LC-39A  28.573255  -80.646895\n3   VAFB SLC-4E  34.632834 -120.610745",
            "text/html": "<div>\n<style scoped>\n    .dataframe tbody tr th:only-of-type {\n        vertical-align: middle;\n    }\n\n    .dataframe tbody tr th {\n        vertical-align: top;\n    }\n\n    .dataframe thead th {\n        text-align: right;\n    }\n</style>\n<table border=\"1\" class=\"dataframe\">\n  <thead>\n    <tr style=\"text-align: right;\">\n      <th></th>\n      <th>Launch Site</th>\n      <th>Lat</th>\n      <th>Long</th>\n    </tr>\n  </thead>\n  <tbody>\n    <tr>\n      <th>0</th>\n      <td>CCAFS LC-40</td>\n      <td>28.562302</td>\n      <td>-80.577356</td>\n    </tr>\n    <tr>\n      <th>1</th>\n      <td>CCAFS SLC-40</td>\n      <td>28.563197</td>\n      <td>-80.576820</td>\n    </tr>\n    <tr>\n      <th>2</th>\n      <td>KSC LC-39A</td>\n      <td>28.573255</td>\n      <td>-80.646895</td>\n    </tr>\n    <tr>\n      <th>3</th>\n      <td>VAFB SLC-4E</td>\n      <td>34.632834</td>\n      <td>-120.610745</td>\n    </tr>\n  </tbody>\n</table>\n</div>"
          },
          "metadata": {}
        }
      ],
      "execution_count": 11
    },
    {
      "cell_type": "code",
      "source": "# Initial the map\nsite_map = folium.Map(location=nasa_coordinate, zoom_start=5)\n# For each launch site, add a Circle object based on its coordinate (Lat, Long) values. In addition, add Launch site name as a popup label\nCCAFS_LC_40_coordinate = [28.562302, -80.577356]\ncircle1 = folium.Circle(CCAFS_LC_40_coordinate, radius=1000, color='#000000', fill=True).add_child(folium.Popup('CCAFS LC-40 Launch Site'))\nmarker1 = folium.map.Marker(CCAFS_LC_40_coordinate, \n                  icon=DivIcon(\n                      icon_size=(20,20),\n                      icon_anchor=(0,0), \n                      html='<div style=\"font-size: 12; color:#d35400;\"><b>%s</b></div>' % 'CCAFS LC-40', \n                  ))\nCCAFS_SLC_40_coordinate = [28.563197, -80.576820]\ncircle2 = folium.Circle(CCAFS_SLC_40_coordinate, radius=1000, color='#000000', fill=True).add_child(folium.Popup('CCAFS SLC-40 Launch Site'))\nmarker2 = folium.map.Marker(CCAFS_SLC_40_coordinate, \n                  icon=DivIcon(\n                      icon_size=(20,20),\n                      icon_anchor=(0,0), \n                      html='<div style=\"font-size: 12; color:#d35400;\"><b>%s</b></div>' % 'CCAFS SLC-40', \n                  ))\nKSC_LC_39A_coordinate = [28.573255, -80.646895]\ncircle3 = folium.Circle(KSC_LC_39A_coordinate, radius=1000, color='#000000', fill=True).add_child(folium.Popup('KSC LC-39A Launch Site'))\nmarker3 = folium.map.Marker(KSC_LC_39A_coordinate, \n                  icon=DivIcon(\n                      icon_size=(20,20),\n                      icon_anchor=(0,0), \n                      html='<div style=\"font-size: 12; color:#d35400;\"><b>%s</b></div>' % 'KSC LC-39A', \n                  ))\nVAFB_SLC_4E_coordinate = [34.632834, -120.610745]\ncircle4 = folium.Circle(VAFB_SLC_4E_coordinate, radius=1000, color='#000000', fill=True).add_child(folium.Popup('VAFB SLC-4E Launch Site'))\nmarker4 = folium.map.Marker(VAFB_SLC_4E_coordinate, \n                  icon=DivIcon(\n                      icon_size=(20,20),\n                      icon_anchor=(0,0), \n                      html='<div style=\"font-size: 12; color:#d35400;\"><b>%s</b></div>' % 'VAFB SLC-4E', \n                  ))\nsite_map.add_child(circle1)\nsite_map.add_child(marker1)\nsite_map.add_child(circle2)\nsite_map.add_child(marker2)\nsite_map.add_child(circle3)\nsite_map.add_child(marker3)\nsite_map.add_child(circle4)\nsite_map.add_child(marker4)",
      "metadata": {
        "trusted": true,
        "scrolled": true
      },
      "outputs": [
        {
          "execution_count": 13,
          "output_type": "execute_result",
          "data": {
            "text/plain": "<folium.folium.Map at 0x571cec8>",
            "text/html": "<div style=\"width:100%;\"><div style=\"position:relative;width:100%;height:0;padding-bottom:60%;\"><span style=\"color:#565656\">Make this Notebook Trusted to load map: File -> Trust Notebook</span><iframe srcdoc=\"&lt;!DOCTYPE html&gt;\n&lt;html&gt;\n&lt;head&gt;\n    \n    &lt;meta http-equiv=&quot;content-type&quot; content=&quot;text/html; charset=UTF-8&quot; /&gt;\n    \n        &lt;script&gt;\n            L_NO_TOUCH = false;\n            L_DISABLE_3D = false;\n        &lt;/script&gt;\n    \n    &lt;style&gt;html, body {width: 100%;height: 100%;margin: 0;padding: 0;}&lt;/style&gt;\n    &lt;style&gt;#map {position:absolute;top:0;bottom:0;right:0;left:0;}&lt;/style&gt;\n    &lt;script src=&quot;https://cdn.jsdelivr.net/npm/leaflet@1.9.3/dist/leaflet.js&quot;&gt;&lt;/script&gt;\n    &lt;script src=&quot;https://code.jquery.com/jquery-3.7.1.min.js&quot;&gt;&lt;/script&gt;\n    &lt;script src=&quot;https://cdn.jsdelivr.net/npm/bootstrap@5.2.2/dist/js/bootstrap.bundle.min.js&quot;&gt;&lt;/script&gt;\n    &lt;script src=&quot;https://cdnjs.cloudflare.com/ajax/libs/Leaflet.awesome-markers/2.0.2/leaflet.awesome-markers.js&quot;&gt;&lt;/script&gt;\n    &lt;link rel=&quot;stylesheet&quot; href=&quot;https://cdn.jsdelivr.net/npm/leaflet@1.9.3/dist/leaflet.css&quot;/&gt;\n    &lt;link rel=&quot;stylesheet&quot; href=&quot;https://cdn.jsdelivr.net/npm/bootstrap@5.2.2/dist/css/bootstrap.min.css&quot;/&gt;\n    &lt;link rel=&quot;stylesheet&quot; href=&quot;https://netdna.bootstrapcdn.com/bootstrap/3.0.0/css/bootstrap.min.css&quot;/&gt;\n    &lt;link rel=&quot;stylesheet&quot; href=&quot;https://cdn.jsdelivr.net/npm/@fortawesome/fontawesome-free@6.2.0/css/all.min.css&quot;/&gt;\n    &lt;link rel=&quot;stylesheet&quot; href=&quot;https://cdnjs.cloudflare.com/ajax/libs/Leaflet.awesome-markers/2.0.2/leaflet.awesome-markers.css&quot;/&gt;\n    &lt;link rel=&quot;stylesheet&quot; href=&quot;https://cdn.jsdelivr.net/gh/python-visualization/folium/folium/templates/leaflet.awesome.rotate.min.css&quot;/&gt;\n    \n            &lt;meta name=&quot;viewport&quot; content=&quot;width=device-width,\n                initial-scale=1.0, maximum-scale=1.0, user-scalable=no&quot; /&gt;\n            &lt;style&gt;\n                #map_76c98749bf8bce6791e55608fea0069d {\n                    position: relative;\n                    width: 100.0%;\n                    height: 100.0%;\n                    left: 0.0%;\n                    top: 0.0%;\n                }\n                .leaflet-container { font-size: 1rem; }\n            &lt;/style&gt;\n        \n&lt;/head&gt;\n&lt;body&gt;\n    \n    \n            &lt;div class=&quot;folium-map&quot; id=&quot;map_76c98749bf8bce6791e55608fea0069d&quot; &gt;&lt;/div&gt;\n        \n&lt;/body&gt;\n&lt;script&gt;\n    \n    \n            var map_76c98749bf8bce6791e55608fea0069d = L.map(\n                &quot;map_76c98749bf8bce6791e55608fea0069d&quot;,\n                {\n                    center: [29.559684888503615, -95.0830971930759],\n                    crs: L.CRS.EPSG3857,\n                    zoom: 5,\n                    zoomControl: true,\n                    preferCanvas: false,\n                }\n            );\n\n            \n\n        \n    \n            var tile_layer_6208bf0eb63d9bb3de77f37a39d84183 = L.tileLayer(\n                &quot;https://tile.openstreetmap.org/{z}/{x}/{y}.png&quot;,\n                {&quot;attribution&quot;: &quot;\\u0026copy; \\u003ca href=\\&quot;https://www.openstreetmap.org/copyright\\&quot;\\u003eOpenStreetMap\\u003c/a\\u003e contributors&quot;, &quot;detectRetina&quot;: false, &quot;maxNativeZoom&quot;: 19, &quot;maxZoom&quot;: 19, &quot;minZoom&quot;: 0, &quot;noWrap&quot;: false, &quot;opacity&quot;: 1, &quot;subdomains&quot;: &quot;abc&quot;, &quot;tms&quot;: false}\n            );\n        \n    \n            tile_layer_6208bf0eb63d9bb3de77f37a39d84183.addTo(map_76c98749bf8bce6791e55608fea0069d);\n        \n    \n            var circle_6777ec50d0a0a31d506e1e98695eeb21 = L.circle(\n                [28.562302, -80.577356],\n                {&quot;bubblingMouseEvents&quot;: true, &quot;color&quot;: &quot;#000000&quot;, &quot;dashArray&quot;: null, &quot;dashOffset&quot;: null, &quot;fill&quot;: true, &quot;fillColor&quot;: &quot;#000000&quot;, &quot;fillOpacity&quot;: 0.2, &quot;fillRule&quot;: &quot;evenodd&quot;, &quot;lineCap&quot;: &quot;round&quot;, &quot;lineJoin&quot;: &quot;round&quot;, &quot;opacity&quot;: 1.0, &quot;radius&quot;: 1000, &quot;stroke&quot;: true, &quot;weight&quot;: 3}\n            ).addTo(map_76c98749bf8bce6791e55608fea0069d);\n        \n    \n        var popup_86d2d9952c8071c49b0fe12c49b4dd60 = L.popup({&quot;maxWidth&quot;: &quot;100%&quot;});\n\n        \n            \n                var html_7e5217e16002d7ef3fbca894a0560f5c = $(`&lt;div id=&quot;html_7e5217e16002d7ef3fbca894a0560f5c&quot; style=&quot;width: 100.0%; height: 100.0%;&quot;&gt;CCAFS LC-40 Launch Site&lt;/div&gt;`)[0];\n                popup_86d2d9952c8071c49b0fe12c49b4dd60.setContent(html_7e5217e16002d7ef3fbca894a0560f5c);\n            \n        \n\n        circle_6777ec50d0a0a31d506e1e98695eeb21.bindPopup(popup_86d2d9952c8071c49b0fe12c49b4dd60)\n        ;\n\n        \n    \n    \n            var marker_09327247429f94d67007a315694a2e0f = L.marker(\n                [28.562302, -80.577356],\n                {}\n            ).addTo(map_76c98749bf8bce6791e55608fea0069d);\n        \n    \n            var div_icon_9392d62a228ced247a8cd48bd78a00c9 = L.divIcon({&quot;className&quot;: &quot;empty&quot;, &quot;html&quot;: &quot;\\u003cdiv style=\\&quot;font-size: 12; color:#d35400;\\&quot;\\u003e\\u003cb\\u003eCCAFS LC-40\\u003c/b\\u003e\\u003c/div\\u003e&quot;, &quot;iconAnchor&quot;: [0, 0], &quot;iconSize&quot;: [20, 20]});\n            marker_09327247429f94d67007a315694a2e0f.setIcon(div_icon_9392d62a228ced247a8cd48bd78a00c9);\n        \n    \n            var circle_d82c01b2da837b94208596650dd68bed = L.circle(\n                [28.563197, -80.57682],\n                {&quot;bubblingMouseEvents&quot;: true, &quot;color&quot;: &quot;#000000&quot;, &quot;dashArray&quot;: null, &quot;dashOffset&quot;: null, &quot;fill&quot;: true, &quot;fillColor&quot;: &quot;#000000&quot;, &quot;fillOpacity&quot;: 0.2, &quot;fillRule&quot;: &quot;evenodd&quot;, &quot;lineCap&quot;: &quot;round&quot;, &quot;lineJoin&quot;: &quot;round&quot;, &quot;opacity&quot;: 1.0, &quot;radius&quot;: 1000, &quot;stroke&quot;: true, &quot;weight&quot;: 3}\n            ).addTo(map_76c98749bf8bce6791e55608fea0069d);\n        \n    \n        var popup_822bef4cd24bd24003b72cab13e8d67b = L.popup({&quot;maxWidth&quot;: &quot;100%&quot;});\n\n        \n            \n                var html_9c716784d4945addcfe2a636dd9be3b6 = $(`&lt;div id=&quot;html_9c716784d4945addcfe2a636dd9be3b6&quot; style=&quot;width: 100.0%; height: 100.0%;&quot;&gt;CCAFS SLC-40 Launch Site&lt;/div&gt;`)[0];\n                popup_822bef4cd24bd24003b72cab13e8d67b.setContent(html_9c716784d4945addcfe2a636dd9be3b6);\n            \n        \n\n        circle_d82c01b2da837b94208596650dd68bed.bindPopup(popup_822bef4cd24bd24003b72cab13e8d67b)\n        ;\n\n        \n    \n    \n            var marker_b33f3ac22d83ec59733c692722511cee = L.marker(\n                [28.563197, -80.57682],\n                {}\n            ).addTo(map_76c98749bf8bce6791e55608fea0069d);\n        \n    \n            var div_icon_aa348aac53912c7e1c1496a7078d604e = L.divIcon({&quot;className&quot;: &quot;empty&quot;, &quot;html&quot;: &quot;\\u003cdiv style=\\&quot;font-size: 12; color:#d35400;\\&quot;\\u003e\\u003cb\\u003eCCAFS SLC-40\\u003c/b\\u003e\\u003c/div\\u003e&quot;, &quot;iconAnchor&quot;: [0, 0], &quot;iconSize&quot;: [20, 20]});\n            marker_b33f3ac22d83ec59733c692722511cee.setIcon(div_icon_aa348aac53912c7e1c1496a7078d604e);\n        \n    \n            var circle_bde150c1903f328bd8d9074f5b80f4af = L.circle(\n                [28.573255, -80.646895],\n                {&quot;bubblingMouseEvents&quot;: true, &quot;color&quot;: &quot;#000000&quot;, &quot;dashArray&quot;: null, &quot;dashOffset&quot;: null, &quot;fill&quot;: true, &quot;fillColor&quot;: &quot;#000000&quot;, &quot;fillOpacity&quot;: 0.2, &quot;fillRule&quot;: &quot;evenodd&quot;, &quot;lineCap&quot;: &quot;round&quot;, &quot;lineJoin&quot;: &quot;round&quot;, &quot;opacity&quot;: 1.0, &quot;radius&quot;: 1000, &quot;stroke&quot;: true, &quot;weight&quot;: 3}\n            ).addTo(map_76c98749bf8bce6791e55608fea0069d);\n        \n    \n        var popup_95567e6203321bbaa9f782b0eb09658b = L.popup({&quot;maxWidth&quot;: &quot;100%&quot;});\n\n        \n            \n                var html_93944c00c2979cf3a056f0b4d6a60c59 = $(`&lt;div id=&quot;html_93944c00c2979cf3a056f0b4d6a60c59&quot; style=&quot;width: 100.0%; height: 100.0%;&quot;&gt;KSC LC-39A Launch Site&lt;/div&gt;`)[0];\n                popup_95567e6203321bbaa9f782b0eb09658b.setContent(html_93944c00c2979cf3a056f0b4d6a60c59);\n            \n        \n\n        circle_bde150c1903f328bd8d9074f5b80f4af.bindPopup(popup_95567e6203321bbaa9f782b0eb09658b)\n        ;\n\n        \n    \n    \n            var marker_9885efb1548de876da0b6e41eae1b70b = L.marker(\n                [28.573255, -80.646895],\n                {}\n            ).addTo(map_76c98749bf8bce6791e55608fea0069d);\n        \n    \n            var div_icon_e05cd1809d48826e30025472ddcf9cea = L.divIcon({&quot;className&quot;: &quot;empty&quot;, &quot;html&quot;: &quot;\\u003cdiv style=\\&quot;font-size: 12; color:#d35400;\\&quot;\\u003e\\u003cb\\u003eKSC LC-39A\\u003c/b\\u003e\\u003c/div\\u003e&quot;, &quot;iconAnchor&quot;: [0, 0], &quot;iconSize&quot;: [20, 20]});\n            marker_9885efb1548de876da0b6e41eae1b70b.setIcon(div_icon_e05cd1809d48826e30025472ddcf9cea);\n        \n    \n            var circle_32e9a8b814fb3d2642f7099b25adc12e = L.circle(\n                [34.632834, -120.610745],\n                {&quot;bubblingMouseEvents&quot;: true, &quot;color&quot;: &quot;#000000&quot;, &quot;dashArray&quot;: null, &quot;dashOffset&quot;: null, &quot;fill&quot;: true, &quot;fillColor&quot;: &quot;#000000&quot;, &quot;fillOpacity&quot;: 0.2, &quot;fillRule&quot;: &quot;evenodd&quot;, &quot;lineCap&quot;: &quot;round&quot;, &quot;lineJoin&quot;: &quot;round&quot;, &quot;opacity&quot;: 1.0, &quot;radius&quot;: 1000, &quot;stroke&quot;: true, &quot;weight&quot;: 3}\n            ).addTo(map_76c98749bf8bce6791e55608fea0069d);\n        \n    \n        var popup_6222dc6440d10861a4bd76b7fbc0faf2 = L.popup({&quot;maxWidth&quot;: &quot;100%&quot;});\n\n        \n            \n                var html_58b14695b87903227fc2cd420d42ada6 = $(`&lt;div id=&quot;html_58b14695b87903227fc2cd420d42ada6&quot; style=&quot;width: 100.0%; height: 100.0%;&quot;&gt;VAFB SLC-4E Launch Site&lt;/div&gt;`)[0];\n                popup_6222dc6440d10861a4bd76b7fbc0faf2.setContent(html_58b14695b87903227fc2cd420d42ada6);\n            \n        \n\n        circle_32e9a8b814fb3d2642f7099b25adc12e.bindPopup(popup_6222dc6440d10861a4bd76b7fbc0faf2)\n        ;\n\n        \n    \n    \n            var marker_5c2c3462e8adb464faae4672465f04de = L.marker(\n                [34.632834, -120.610745],\n                {}\n            ).addTo(map_76c98749bf8bce6791e55608fea0069d);\n        \n    \n            var div_icon_45546a7fc14d92d5cc74563cfbc7ac49 = L.divIcon({&quot;className&quot;: &quot;empty&quot;, &quot;html&quot;: &quot;\\u003cdiv style=\\&quot;font-size: 12; color:#d35400;\\&quot;\\u003e\\u003cb\\u003eVAFB SLC-4E\\u003c/b\\u003e\\u003c/div\\u003e&quot;, &quot;iconAnchor&quot;: [0, 0], &quot;iconSize&quot;: [20, 20]});\n            marker_5c2c3462e8adb464faae4672465f04de.setIcon(div_icon_45546a7fc14d92d5cc74563cfbc7ac49);\n        \n&lt;/script&gt;\n&lt;/html&gt;\" style=\"position:absolute;width:100%;height:100%;left:0;top:0;border:none !important;\" allowfullscreen webkitallowfullscreen mozallowfullscreen></iframe></div></div>"
          },
          "metadata": {}
        }
      ],
      "execution_count": 13
    },
    {
      "cell_type": "markdown",
      "source": "The generated map with marked launch sites should look similar to the following:\n",
      "metadata": {}
    },
    {
      "cell_type": "code",
      "source": "<center>\n    <img src=\"https://cf-courses-data.s3.us.cloud-object-storage.appdomain.cloud/IBM-DS0321EN-SkillsNetwork/labs/module_3/images/launch_site_markers.png\">\n</center>",
      "metadata": {
        "trusted": true
      },
      "outputs": [],
      "execution_count": null
    },
    {
      "cell_type": "markdown",
      "source": "Now, you can explore the map by zoom-in/out the marked areas\n, and try to answer the following questions:\n\n*   Are all launch sites in proximity to the Equator line?\n*   Are all launch sites in very close proximity to the coast?\n\nAlso please try to explain your findings.\n",
      "metadata": {}
    },
    {
      "cell_type": "markdown",
      "source": "### As, it seems, all launch sites are very close to the coast!",
      "metadata": {}
    },
    {
      "cell_type": "markdown",
      "source": "Next, let's try to enhance the map by adding the launch outcomes for each site, and see which sites have high success rates.\nRecall that data frame spacex_df has detailed launch records, and the `class` column indicates if this launch was successful or not\n",
      "metadata": {}
    },
    {
      "cell_type": "code",
      "source": "spacex_df.tail(10)",
      "metadata": {
        "trusted": true
      },
      "outputs": [
        {
          "execution_count": 14,
          "output_type": "execute_result",
          "data": {
            "text/plain": "     Launch Site        Lat       Long  class\n46    KSC LC-39A  28.573255 -80.646895      1\n47    KSC LC-39A  28.573255 -80.646895      1\n48    KSC LC-39A  28.573255 -80.646895      1\n49  CCAFS SLC-40  28.563197 -80.576820      1\n50  CCAFS SLC-40  28.563197 -80.576820      1\n51  CCAFS SLC-40  28.563197 -80.576820      0\n52  CCAFS SLC-40  28.563197 -80.576820      0\n53  CCAFS SLC-40  28.563197 -80.576820      0\n54  CCAFS SLC-40  28.563197 -80.576820      1\n55  CCAFS SLC-40  28.563197 -80.576820      0",
            "text/html": "<div>\n<style scoped>\n    .dataframe tbody tr th:only-of-type {\n        vertical-align: middle;\n    }\n\n    .dataframe tbody tr th {\n        vertical-align: top;\n    }\n\n    .dataframe thead th {\n        text-align: right;\n    }\n</style>\n<table border=\"1\" class=\"dataframe\">\n  <thead>\n    <tr style=\"text-align: right;\">\n      <th></th>\n      <th>Launch Site</th>\n      <th>Lat</th>\n      <th>Long</th>\n      <th>class</th>\n    </tr>\n  </thead>\n  <tbody>\n    <tr>\n      <th>46</th>\n      <td>KSC LC-39A</td>\n      <td>28.573255</td>\n      <td>-80.646895</td>\n      <td>1</td>\n    </tr>\n    <tr>\n      <th>47</th>\n      <td>KSC LC-39A</td>\n      <td>28.573255</td>\n      <td>-80.646895</td>\n      <td>1</td>\n    </tr>\n    <tr>\n      <th>48</th>\n      <td>KSC LC-39A</td>\n      <td>28.573255</td>\n      <td>-80.646895</td>\n      <td>1</td>\n    </tr>\n    <tr>\n      <th>49</th>\n      <td>CCAFS SLC-40</td>\n      <td>28.563197</td>\n      <td>-80.576820</td>\n      <td>1</td>\n    </tr>\n    <tr>\n      <th>50</th>\n      <td>CCAFS SLC-40</td>\n      <td>28.563197</td>\n      <td>-80.576820</td>\n      <td>1</td>\n    </tr>\n    <tr>\n      <th>51</th>\n      <td>CCAFS SLC-40</td>\n      <td>28.563197</td>\n      <td>-80.576820</td>\n      <td>0</td>\n    </tr>\n    <tr>\n      <th>52</th>\n      <td>CCAFS SLC-40</td>\n      <td>28.563197</td>\n      <td>-80.576820</td>\n      <td>0</td>\n    </tr>\n    <tr>\n      <th>53</th>\n      <td>CCAFS SLC-40</td>\n      <td>28.563197</td>\n      <td>-80.576820</td>\n      <td>0</td>\n    </tr>\n    <tr>\n      <th>54</th>\n      <td>CCAFS SLC-40</td>\n      <td>28.563197</td>\n      <td>-80.576820</td>\n      <td>1</td>\n    </tr>\n    <tr>\n      <th>55</th>\n      <td>CCAFS SLC-40</td>\n      <td>28.563197</td>\n      <td>-80.576820</td>\n      <td>0</td>\n    </tr>\n  </tbody>\n</table>\n</div>"
          },
          "metadata": {}
        }
      ],
      "execution_count": 14
    },
    {
      "cell_type": "markdown",
      "source": "Next, let's create markers for all launch records.\nIf a launch was successful `(class=1)`, then we use a green marker and if a launch was failed, we use a red marker `(class=0)`\n",
      "metadata": {}
    },
    {
      "cell_type": "markdown",
      "source": "Note that a launch only happens in one of the four launch sites, which means many launch records will have the exact same coordinate. Marker clusters can be a good way to simplify a map containing many markers having the same coordinate.\n",
      "metadata": {}
    },
    {
      "cell_type": "markdown",
      "source": "Let's first create a `MarkerCluster` object\n",
      "metadata": {}
    },
    {
      "cell_type": "code",
      "source": "marker_cluster = MarkerCluster()\n",
      "metadata": {
        "trusted": true
      },
      "outputs": [],
      "execution_count": 15
    },
    {
      "cell_type": "markdown",
      "source": "*TODO:* Create a new column in `launch_sites` dataframe called `marker_color` to store the marker colors based on the `class` value\n",
      "metadata": {}
    },
    {
      "cell_type": "code",
      "source": "\n# Apply a function to check the value of `class` column\n# If class=1, marker_color value will be green\n# If class=0, marker_color value will be red\ndf['marker_color'] = ''\ndef\nfor index, row in df.iterrows():\n    if row['class'] == 1:\n        df.loc[index, 'marker_color'] = 'green'\n    elif row['class'] == 0:\n        df.loc[index, 'marker_color'] = 'red'",
      "metadata": {},
      "outputs": [],
      "execution_count": null
    },
    {
      "cell_type": "markdown",
      "source": "*TODO:* For each launch result in `spacex_df` data frame, add a `folium.Marker` to `marker_cluster`\n",
      "metadata": {}
    },
    {
      "cell_type": "code",
      "source": "# Add marker_cluster to current site_map\nsite_map.add_child(marker_cluster)\n\n# for each row in spacex_df data frame\n# create a Marker object with its coordinate\n# and customize the Marker's icon property to indicate if this launch was successed or failed, \n# e.g., icon=folium.Icon(color='white', icon_color=row['marker_color']\nfor index, record in spacex_df.iterrows():\n    # TODO: Create and add a Marker cluster to the site map\n    marker = folium.Marker(\n        VAFB_SLC_4E_coordinate, \n                  icon=DivIcon(\n                      icon_size=(20,20),\n                      icon_anchor=(0,0), \n                      html='<div style=\"font-size: 12; color:#d35400;\"><b>%s</b></div>' % 'VAFB SLC-4E', \n    ))\n    marker_cluster.add_child(marker)\n\nsite_map",
      "metadata": {
        "trusted": true
      },
      "outputs": [
        {
          "execution_count": 18,
          "output_type": "execute_result",
          "data": {
            "text/plain": "<folium.folium.Map at 0x571cec8>",
            "text/html": "<div style=\"width:100%;\"><div style=\"position:relative;width:100%;height:0;padding-bottom:60%;\"><span style=\"color:#565656\">Make this Notebook Trusted to load map: File -> Trust Notebook</span><iframe srcdoc=\"&lt;!DOCTYPE html&gt;\n&lt;html&gt;\n&lt;head&gt;\n    \n    &lt;meta http-equiv=&quot;content-type&quot; content=&quot;text/html; charset=UTF-8&quot; /&gt;\n    \n        &lt;script&gt;\n            L_NO_TOUCH = false;\n            L_DISABLE_3D = false;\n        &lt;/script&gt;\n    \n    &lt;style&gt;html, body {width: 100%;height: 100%;margin: 0;padding: 0;}&lt;/style&gt;\n    &lt;style&gt;#map {position:absolute;top:0;bottom:0;right:0;left:0;}&lt;/style&gt;\n    &lt;script src=&quot;https://cdn.jsdelivr.net/npm/leaflet@1.9.3/dist/leaflet.js&quot;&gt;&lt;/script&gt;\n    &lt;script src=&quot;https://code.jquery.com/jquery-3.7.1.min.js&quot;&gt;&lt;/script&gt;\n    &lt;script src=&quot;https://cdn.jsdelivr.net/npm/bootstrap@5.2.2/dist/js/bootstrap.bundle.min.js&quot;&gt;&lt;/script&gt;\n    &lt;script src=&quot;https://cdnjs.cloudflare.com/ajax/libs/Leaflet.awesome-markers/2.0.2/leaflet.awesome-markers.js&quot;&gt;&lt;/script&gt;\n    &lt;link rel=&quot;stylesheet&quot; href=&quot;https://cdn.jsdelivr.net/npm/leaflet@1.9.3/dist/leaflet.css&quot;/&gt;\n    &lt;link rel=&quot;stylesheet&quot; href=&quot;https://cdn.jsdelivr.net/npm/bootstrap@5.2.2/dist/css/bootstrap.min.css&quot;/&gt;\n    &lt;link rel=&quot;stylesheet&quot; href=&quot;https://netdna.bootstrapcdn.com/bootstrap/3.0.0/css/bootstrap.min.css&quot;/&gt;\n    &lt;link rel=&quot;stylesheet&quot; href=&quot;https://cdn.jsdelivr.net/npm/@fortawesome/fontawesome-free@6.2.0/css/all.min.css&quot;/&gt;\n    &lt;link rel=&quot;stylesheet&quot; href=&quot;https://cdnjs.cloudflare.com/ajax/libs/Leaflet.awesome-markers/2.0.2/leaflet.awesome-markers.css&quot;/&gt;\n    &lt;link rel=&quot;stylesheet&quot; href=&quot;https://cdn.jsdelivr.net/gh/python-visualization/folium/folium/templates/leaflet.awesome.rotate.min.css&quot;/&gt;\n    \n            &lt;meta name=&quot;viewport&quot; content=&quot;width=device-width,\n                initial-scale=1.0, maximum-scale=1.0, user-scalable=no&quot; /&gt;\n            &lt;style&gt;\n                #map_76c98749bf8bce6791e55608fea0069d {\n                    position: relative;\n                    width: 100.0%;\n                    height: 100.0%;\n                    left: 0.0%;\n                    top: 0.0%;\n                }\n                .leaflet-container { font-size: 1rem; }\n            &lt;/style&gt;\n        \n    &lt;script src=&quot;https://cdnjs.cloudflare.com/ajax/libs/leaflet.markercluster/1.1.0/leaflet.markercluster.js&quot;&gt;&lt;/script&gt;\n    &lt;link rel=&quot;stylesheet&quot; href=&quot;https://cdnjs.cloudflare.com/ajax/libs/leaflet.markercluster/1.1.0/MarkerCluster.css&quot;/&gt;\n    &lt;link rel=&quot;stylesheet&quot; href=&quot;https://cdnjs.cloudflare.com/ajax/libs/leaflet.markercluster/1.1.0/MarkerCluster.Default.css&quot;/&gt;\n&lt;/head&gt;\n&lt;body&gt;\n    \n    \n            &lt;div class=&quot;folium-map&quot; id=&quot;map_76c98749bf8bce6791e55608fea0069d&quot; &gt;&lt;/div&gt;\n        \n&lt;/body&gt;\n&lt;script&gt;\n    \n    \n            var map_76c98749bf8bce6791e55608fea0069d = L.map(\n                &quot;map_76c98749bf8bce6791e55608fea0069d&quot;,\n                {\n                    center: [29.559684888503615, -95.0830971930759],\n                    crs: L.CRS.EPSG3857,\n                    zoom: 5,\n                    zoomControl: true,\n                    preferCanvas: false,\n                }\n            );\n\n            \n\n        \n    \n            var tile_layer_6208bf0eb63d9bb3de77f37a39d84183 = L.tileLayer(\n                &quot;https://tile.openstreetmap.org/{z}/{x}/{y}.png&quot;,\n                {&quot;attribution&quot;: &quot;\\u0026copy; \\u003ca href=\\&quot;https://www.openstreetmap.org/copyright\\&quot;\\u003eOpenStreetMap\\u003c/a\\u003e contributors&quot;, &quot;detectRetina&quot;: false, &quot;maxNativeZoom&quot;: 19, &quot;maxZoom&quot;: 19, &quot;minZoom&quot;: 0, &quot;noWrap&quot;: false, &quot;opacity&quot;: 1, &quot;subdomains&quot;: &quot;abc&quot;, &quot;tms&quot;: false}\n            );\n        \n    \n            tile_layer_6208bf0eb63d9bb3de77f37a39d84183.addTo(map_76c98749bf8bce6791e55608fea0069d);\n        \n    \n            var circle_6777ec50d0a0a31d506e1e98695eeb21 = L.circle(\n                [28.562302, -80.577356],\n                {&quot;bubblingMouseEvents&quot;: true, &quot;color&quot;: &quot;#000000&quot;, &quot;dashArray&quot;: null, &quot;dashOffset&quot;: null, &quot;fill&quot;: true, &quot;fillColor&quot;: &quot;#000000&quot;, &quot;fillOpacity&quot;: 0.2, &quot;fillRule&quot;: &quot;evenodd&quot;, &quot;lineCap&quot;: &quot;round&quot;, &quot;lineJoin&quot;: &quot;round&quot;, &quot;opacity&quot;: 1.0, &quot;radius&quot;: 1000, &quot;stroke&quot;: true, &quot;weight&quot;: 3}\n            ).addTo(map_76c98749bf8bce6791e55608fea0069d);\n        \n    \n        var popup_86d2d9952c8071c49b0fe12c49b4dd60 = L.popup({&quot;maxWidth&quot;: &quot;100%&quot;});\n\n        \n            \n                var html_7e5217e16002d7ef3fbca894a0560f5c = $(`&lt;div id=&quot;html_7e5217e16002d7ef3fbca894a0560f5c&quot; style=&quot;width: 100.0%; height: 100.0%;&quot;&gt;CCAFS LC-40 Launch Site&lt;/div&gt;`)[0];\n                popup_86d2d9952c8071c49b0fe12c49b4dd60.setContent(html_7e5217e16002d7ef3fbca894a0560f5c);\n            \n        \n\n        circle_6777ec50d0a0a31d506e1e98695eeb21.bindPopup(popup_86d2d9952c8071c49b0fe12c49b4dd60)\n        ;\n\n        \n    \n    \n            var marker_09327247429f94d67007a315694a2e0f = L.marker(\n                [28.562302, -80.577356],\n                {}\n            ).addTo(map_76c98749bf8bce6791e55608fea0069d);\n        \n    \n            var div_icon_9392d62a228ced247a8cd48bd78a00c9 = L.divIcon({&quot;className&quot;: &quot;empty&quot;, &quot;html&quot;: &quot;\\u003cdiv style=\\&quot;font-size: 12; color:#d35400;\\&quot;\\u003e\\u003cb\\u003eCCAFS LC-40\\u003c/b\\u003e\\u003c/div\\u003e&quot;, &quot;iconAnchor&quot;: [0, 0], &quot;iconSize&quot;: [20, 20]});\n            marker_09327247429f94d67007a315694a2e0f.setIcon(div_icon_9392d62a228ced247a8cd48bd78a00c9);\n        \n    \n            var circle_d82c01b2da837b94208596650dd68bed = L.circle(\n                [28.563197, -80.57682],\n                {&quot;bubblingMouseEvents&quot;: true, &quot;color&quot;: &quot;#000000&quot;, &quot;dashArray&quot;: null, &quot;dashOffset&quot;: null, &quot;fill&quot;: true, &quot;fillColor&quot;: &quot;#000000&quot;, &quot;fillOpacity&quot;: 0.2, &quot;fillRule&quot;: &quot;evenodd&quot;, &quot;lineCap&quot;: &quot;round&quot;, &quot;lineJoin&quot;: &quot;round&quot;, &quot;opacity&quot;: 1.0, &quot;radius&quot;: 1000, &quot;stroke&quot;: true, &quot;weight&quot;: 3}\n            ).addTo(map_76c98749bf8bce6791e55608fea0069d);\n        \n    \n        var popup_822bef4cd24bd24003b72cab13e8d67b = L.popup({&quot;maxWidth&quot;: &quot;100%&quot;});\n\n        \n            \n                var html_9c716784d4945addcfe2a636dd9be3b6 = $(`&lt;div id=&quot;html_9c716784d4945addcfe2a636dd9be3b6&quot; style=&quot;width: 100.0%; height: 100.0%;&quot;&gt;CCAFS SLC-40 Launch Site&lt;/div&gt;`)[0];\n                popup_822bef4cd24bd24003b72cab13e8d67b.setContent(html_9c716784d4945addcfe2a636dd9be3b6);\n            \n        \n\n        circle_d82c01b2da837b94208596650dd68bed.bindPopup(popup_822bef4cd24bd24003b72cab13e8d67b)\n        ;\n\n        \n    \n    \n            var marker_b33f3ac22d83ec59733c692722511cee = L.marker(\n                [28.563197, -80.57682],\n                {}\n            ).addTo(map_76c98749bf8bce6791e55608fea0069d);\n        \n    \n            var div_icon_aa348aac53912c7e1c1496a7078d604e = L.divIcon({&quot;className&quot;: &quot;empty&quot;, &quot;html&quot;: &quot;\\u003cdiv style=\\&quot;font-size: 12; color:#d35400;\\&quot;\\u003e\\u003cb\\u003eCCAFS SLC-40\\u003c/b\\u003e\\u003c/div\\u003e&quot;, &quot;iconAnchor&quot;: [0, 0], &quot;iconSize&quot;: [20, 20]});\n            marker_b33f3ac22d83ec59733c692722511cee.setIcon(div_icon_aa348aac53912c7e1c1496a7078d604e);\n        \n    \n            var circle_bde150c1903f328bd8d9074f5b80f4af = L.circle(\n                [28.573255, -80.646895],\n                {&quot;bubblingMouseEvents&quot;: true, &quot;color&quot;: &quot;#000000&quot;, &quot;dashArray&quot;: null, &quot;dashOffset&quot;: null, &quot;fill&quot;: true, &quot;fillColor&quot;: &quot;#000000&quot;, &quot;fillOpacity&quot;: 0.2, &quot;fillRule&quot;: &quot;evenodd&quot;, &quot;lineCap&quot;: &quot;round&quot;, &quot;lineJoin&quot;: &quot;round&quot;, &quot;opacity&quot;: 1.0, &quot;radius&quot;: 1000, &quot;stroke&quot;: true, &quot;weight&quot;: 3}\n            ).addTo(map_76c98749bf8bce6791e55608fea0069d);\n        \n    \n        var popup_95567e6203321bbaa9f782b0eb09658b = L.popup({&quot;maxWidth&quot;: &quot;100%&quot;});\n\n        \n            \n                var html_93944c00c2979cf3a056f0b4d6a60c59 = $(`&lt;div id=&quot;html_93944c00c2979cf3a056f0b4d6a60c59&quot; style=&quot;width: 100.0%; height: 100.0%;&quot;&gt;KSC LC-39A Launch Site&lt;/div&gt;`)[0];\n                popup_95567e6203321bbaa9f782b0eb09658b.setContent(html_93944c00c2979cf3a056f0b4d6a60c59);\n            \n        \n\n        circle_bde150c1903f328bd8d9074f5b80f4af.bindPopup(popup_95567e6203321bbaa9f782b0eb09658b)\n        ;\n\n        \n    \n    \n            var marker_9885efb1548de876da0b6e41eae1b70b = L.marker(\n                [28.573255, -80.646895],\n                {}\n            ).addTo(map_76c98749bf8bce6791e55608fea0069d);\n        \n    \n            var div_icon_e05cd1809d48826e30025472ddcf9cea = L.divIcon({&quot;className&quot;: &quot;empty&quot;, &quot;html&quot;: &quot;\\u003cdiv style=\\&quot;font-size: 12; color:#d35400;\\&quot;\\u003e\\u003cb\\u003eKSC LC-39A\\u003c/b\\u003e\\u003c/div\\u003e&quot;, &quot;iconAnchor&quot;: [0, 0], &quot;iconSize&quot;: [20, 20]});\n            marker_9885efb1548de876da0b6e41eae1b70b.setIcon(div_icon_e05cd1809d48826e30025472ddcf9cea);\n        \n    \n            var circle_32e9a8b814fb3d2642f7099b25adc12e = L.circle(\n                [34.632834, -120.610745],\n                {&quot;bubblingMouseEvents&quot;: true, &quot;color&quot;: &quot;#000000&quot;, &quot;dashArray&quot;: null, &quot;dashOffset&quot;: null, &quot;fill&quot;: true, &quot;fillColor&quot;: &quot;#000000&quot;, &quot;fillOpacity&quot;: 0.2, &quot;fillRule&quot;: &quot;evenodd&quot;, &quot;lineCap&quot;: &quot;round&quot;, &quot;lineJoin&quot;: &quot;round&quot;, &quot;opacity&quot;: 1.0, &quot;radius&quot;: 1000, &quot;stroke&quot;: true, &quot;weight&quot;: 3}\n            ).addTo(map_76c98749bf8bce6791e55608fea0069d);\n        \n    \n        var popup_6222dc6440d10861a4bd76b7fbc0faf2 = L.popup({&quot;maxWidth&quot;: &quot;100%&quot;});\n\n        \n            \n                var html_58b14695b87903227fc2cd420d42ada6 = $(`&lt;div id=&quot;html_58b14695b87903227fc2cd420d42ada6&quot; style=&quot;width: 100.0%; height: 100.0%;&quot;&gt;VAFB SLC-4E Launch Site&lt;/div&gt;`)[0];\n                popup_6222dc6440d10861a4bd76b7fbc0faf2.setContent(html_58b14695b87903227fc2cd420d42ada6);\n            \n        \n\n        circle_32e9a8b814fb3d2642f7099b25adc12e.bindPopup(popup_6222dc6440d10861a4bd76b7fbc0faf2)\n        ;\n\n        \n    \n    \n            var marker_5c2c3462e8adb464faae4672465f04de = L.marker(\n                [34.632834, -120.610745],\n                {}\n            ).addTo(map_76c98749bf8bce6791e55608fea0069d);\n        \n    \n            var div_icon_45546a7fc14d92d5cc74563cfbc7ac49 = L.divIcon({&quot;className&quot;: &quot;empty&quot;, &quot;html&quot;: &quot;\\u003cdiv style=\\&quot;font-size: 12; color:#d35400;\\&quot;\\u003e\\u003cb\\u003eVAFB SLC-4E\\u003c/b\\u003e\\u003c/div\\u003e&quot;, &quot;iconAnchor&quot;: [0, 0], &quot;iconSize&quot;: [20, 20]});\n            marker_5c2c3462e8adb464faae4672465f04de.setIcon(div_icon_45546a7fc14d92d5cc74563cfbc7ac49);\n        \n    \n            tile_layer_6208bf0eb63d9bb3de77f37a39d84183.addTo(map_76c98749bf8bce6791e55608fea0069d);\n        \n    \n            var marker_cluster_00790123b3fb4d8e2ba4b6224453dc49 = L.markerClusterGroup(\n                {}\n            );\n        \n    \n            var marker_28aecd8221ac36bd4634f8521c3776fd = L.marker(\n                [29.559684888503615, -95.0830971930759],\n                {}\n            ).addTo(marker_cluster_00790123b3fb4d8e2ba4b6224453dc49);\n        \n    \n            var div_icon_40851989ecf01d3a2bea56cfdc67ecbd = L.divIcon({&quot;className&quot;: &quot;empty&quot;, &quot;html&quot;: &quot;\\u003cdiv style=\\&quot;font-size: 12; color:#d35400;\\&quot;\\u003e\\u003cb\\u003eNASA JSC\\u003c/b\\u003e\\u003c/div\\u003e&quot;, &quot;iconAnchor&quot;: [0, 0], &quot;iconSize&quot;: [20, 20]});\n            marker_28aecd8221ac36bd4634f8521c3776fd.setIcon(div_icon_40851989ecf01d3a2bea56cfdc67ecbd);\n        \n    \n            marker_cluster_00790123b3fb4d8e2ba4b6224453dc49.addTo(map_76c98749bf8bce6791e55608fea0069d);\n        \n    \n            tile_layer_6208bf0eb63d9bb3de77f37a39d84183.addTo(map_76c98749bf8bce6791e55608fea0069d);\n        \n    \n            marker_cluster_00790123b3fb4d8e2ba4b6224453dc49.addTo(map_76c98749bf8bce6791e55608fea0069d);\n        \n    \n            var marker_90a405022968d9c4f03442bc7d684db4 = L.marker(\n                [34.632834, -120.610745],\n                {}\n            ).addTo(marker_cluster_00790123b3fb4d8e2ba4b6224453dc49);\n        \n    \n            var div_icon_61f1c524b4555bb4fef0053d0ca3f91a = L.divIcon({&quot;className&quot;: &quot;empty&quot;, &quot;html&quot;: &quot;\\u003cdiv style=\\&quot;font-size: 12; color:#d35400;\\&quot;\\u003e\\u003cb\\u003eVAFB SLC-4E\\u003c/b\\u003e\\u003c/div\\u003e&quot;, &quot;iconAnchor&quot;: [0, 0], &quot;iconSize&quot;: [20, 20]});\n            marker_90a405022968d9c4f03442bc7d684db4.setIcon(div_icon_61f1c524b4555bb4fef0053d0ca3f91a);\n        \n    \n            var marker_37d122145a4c5adffc50f8fd1698dc1f = L.marker(\n                [34.632834, -120.610745],\n                {}\n            ).addTo(marker_cluster_00790123b3fb4d8e2ba4b6224453dc49);\n        \n    \n            var div_icon_27158040e7823c19634f222b1c43cdf1 = L.divIcon({&quot;className&quot;: &quot;empty&quot;, &quot;html&quot;: &quot;\\u003cdiv style=\\&quot;font-size: 12; color:#d35400;\\&quot;\\u003e\\u003cb\\u003eVAFB SLC-4E\\u003c/b\\u003e\\u003c/div\\u003e&quot;, &quot;iconAnchor&quot;: [0, 0], &quot;iconSize&quot;: [20, 20]});\n            marker_37d122145a4c5adffc50f8fd1698dc1f.setIcon(div_icon_27158040e7823c19634f222b1c43cdf1);\n        \n    \n            var marker_6f2824737e2cb16455fe5b8e7b5589bf = L.marker(\n                [34.632834, -120.610745],\n                {}\n            ).addTo(marker_cluster_00790123b3fb4d8e2ba4b6224453dc49);\n        \n    \n            var div_icon_0761ab41621b86e50b075016dc54b8a5 = L.divIcon({&quot;className&quot;: &quot;empty&quot;, &quot;html&quot;: &quot;\\u003cdiv style=\\&quot;font-size: 12; color:#d35400;\\&quot;\\u003e\\u003cb\\u003eVAFB SLC-4E\\u003c/b\\u003e\\u003c/div\\u003e&quot;, &quot;iconAnchor&quot;: [0, 0], &quot;iconSize&quot;: [20, 20]});\n            marker_6f2824737e2cb16455fe5b8e7b5589bf.setIcon(div_icon_0761ab41621b86e50b075016dc54b8a5);\n        \n    \n            var marker_7318eb82e17683ef51ec9277adf51c30 = L.marker(\n                [34.632834, -120.610745],\n                {}\n            ).addTo(marker_cluster_00790123b3fb4d8e2ba4b6224453dc49);\n        \n    \n            var div_icon_f252e8e5ee5aac9d5122822913d02563 = L.divIcon({&quot;className&quot;: &quot;empty&quot;, &quot;html&quot;: &quot;\\u003cdiv style=\\&quot;font-size: 12; color:#d35400;\\&quot;\\u003e\\u003cb\\u003eVAFB SLC-4E\\u003c/b\\u003e\\u003c/div\\u003e&quot;, &quot;iconAnchor&quot;: [0, 0], &quot;iconSize&quot;: [20, 20]});\n            marker_7318eb82e17683ef51ec9277adf51c30.setIcon(div_icon_f252e8e5ee5aac9d5122822913d02563);\n        \n    \n            var marker_29061cf53a18eda77e04207291c6c9aa = L.marker(\n                [34.632834, -120.610745],\n                {}\n            ).addTo(marker_cluster_00790123b3fb4d8e2ba4b6224453dc49);\n        \n    \n            var div_icon_54161cc6a42d9530167021139ee56e16 = L.divIcon({&quot;className&quot;: &quot;empty&quot;, &quot;html&quot;: &quot;\\u003cdiv style=\\&quot;font-size: 12; color:#d35400;\\&quot;\\u003e\\u003cb\\u003eVAFB SLC-4E\\u003c/b\\u003e\\u003c/div\\u003e&quot;, &quot;iconAnchor&quot;: [0, 0], &quot;iconSize&quot;: [20, 20]});\n            marker_29061cf53a18eda77e04207291c6c9aa.setIcon(div_icon_54161cc6a42d9530167021139ee56e16);\n        \n    \n            var marker_0e7b2ac3af179081263431365b5d2538 = L.marker(\n                [34.632834, -120.610745],\n                {}\n            ).addTo(marker_cluster_00790123b3fb4d8e2ba4b6224453dc49);\n        \n    \n            var div_icon_28ab54529bf7ddb931b2ddfef0be3d7c = L.divIcon({&quot;className&quot;: &quot;empty&quot;, &quot;html&quot;: &quot;\\u003cdiv style=\\&quot;font-size: 12; color:#d35400;\\&quot;\\u003e\\u003cb\\u003eVAFB SLC-4E\\u003c/b\\u003e\\u003c/div\\u003e&quot;, &quot;iconAnchor&quot;: [0, 0], &quot;iconSize&quot;: [20, 20]});\n            marker_0e7b2ac3af179081263431365b5d2538.setIcon(div_icon_28ab54529bf7ddb931b2ddfef0be3d7c);\n        \n    \n            var marker_5aa45e980d7b0709cf41a292f2ae2b10 = L.marker(\n                [34.632834, -120.610745],\n                {}\n            ).addTo(marker_cluster_00790123b3fb4d8e2ba4b6224453dc49);\n        \n    \n            var div_icon_880cdd6aeaad95af8e6afaf3fedb65c9 = L.divIcon({&quot;className&quot;: &quot;empty&quot;, &quot;html&quot;: &quot;\\u003cdiv style=\\&quot;font-size: 12; color:#d35400;\\&quot;\\u003e\\u003cb\\u003eVAFB SLC-4E\\u003c/b\\u003e\\u003c/div\\u003e&quot;, &quot;iconAnchor&quot;: [0, 0], &quot;iconSize&quot;: [20, 20]});\n            marker_5aa45e980d7b0709cf41a292f2ae2b10.setIcon(div_icon_880cdd6aeaad95af8e6afaf3fedb65c9);\n        \n    \n            var marker_5be30ff5c93a8ddd95a3f48b35df274d = L.marker(\n                [34.632834, -120.610745],\n                {}\n            ).addTo(marker_cluster_00790123b3fb4d8e2ba4b6224453dc49);\n        \n    \n            var div_icon_ad1aba1f9e11b73fa795699bd5544ccc = L.divIcon({&quot;className&quot;: &quot;empty&quot;, &quot;html&quot;: &quot;\\u003cdiv style=\\&quot;font-size: 12; color:#d35400;\\&quot;\\u003e\\u003cb\\u003eVAFB SLC-4E\\u003c/b\\u003e\\u003c/div\\u003e&quot;, &quot;iconAnchor&quot;: [0, 0], &quot;iconSize&quot;: [20, 20]});\n            marker_5be30ff5c93a8ddd95a3f48b35df274d.setIcon(div_icon_ad1aba1f9e11b73fa795699bd5544ccc);\n        \n    \n            var marker_151d8838fc8da0bd4bcdb7a7de118a41 = L.marker(\n                [34.632834, -120.610745],\n                {}\n            ).addTo(marker_cluster_00790123b3fb4d8e2ba4b6224453dc49);\n        \n    \n            var div_icon_5e580a21fb2babfb29daf000a2f82cfd = L.divIcon({&quot;className&quot;: &quot;empty&quot;, &quot;html&quot;: &quot;\\u003cdiv style=\\&quot;font-size: 12; color:#d35400;\\&quot;\\u003e\\u003cb\\u003eVAFB SLC-4E\\u003c/b\\u003e\\u003c/div\\u003e&quot;, &quot;iconAnchor&quot;: [0, 0], &quot;iconSize&quot;: [20, 20]});\n            marker_151d8838fc8da0bd4bcdb7a7de118a41.setIcon(div_icon_5e580a21fb2babfb29daf000a2f82cfd);\n        \n    \n            var marker_c52236644c2a5a2e114a0038f6d94051 = L.marker(\n                [34.632834, -120.610745],\n                {}\n            ).addTo(marker_cluster_00790123b3fb4d8e2ba4b6224453dc49);\n        \n    \n            var div_icon_e6807233e08c72bb1868cf2eeab4f899 = L.divIcon({&quot;className&quot;: &quot;empty&quot;, &quot;html&quot;: &quot;\\u003cdiv style=\\&quot;font-size: 12; color:#d35400;\\&quot;\\u003e\\u003cb\\u003eVAFB SLC-4E\\u003c/b\\u003e\\u003c/div\\u003e&quot;, &quot;iconAnchor&quot;: [0, 0], &quot;iconSize&quot;: [20, 20]});\n            marker_c52236644c2a5a2e114a0038f6d94051.setIcon(div_icon_e6807233e08c72bb1868cf2eeab4f899);\n        \n    \n            var marker_62a456e444840c2c4e526db2ae2b1ef0 = L.marker(\n                [34.632834, -120.610745],\n                {}\n            ).addTo(marker_cluster_00790123b3fb4d8e2ba4b6224453dc49);\n        \n    \n            var div_icon_b5f33b67686c59f5f13077b859e710b2 = L.divIcon({&quot;className&quot;: &quot;empty&quot;, &quot;html&quot;: &quot;\\u003cdiv style=\\&quot;font-size: 12; color:#d35400;\\&quot;\\u003e\\u003cb\\u003eVAFB SLC-4E\\u003c/b\\u003e\\u003c/div\\u003e&quot;, &quot;iconAnchor&quot;: [0, 0], &quot;iconSize&quot;: [20, 20]});\n            marker_62a456e444840c2c4e526db2ae2b1ef0.setIcon(div_icon_b5f33b67686c59f5f13077b859e710b2);\n        \n    \n            var marker_035c42c9421c0eccb089a81b565eafbf = L.marker(\n                [34.632834, -120.610745],\n                {}\n            ).addTo(marker_cluster_00790123b3fb4d8e2ba4b6224453dc49);\n        \n    \n            var div_icon_12588d788638bc52ac7bf0f9ac776511 = L.divIcon({&quot;className&quot;: &quot;empty&quot;, &quot;html&quot;: &quot;\\u003cdiv style=\\&quot;font-size: 12; color:#d35400;\\&quot;\\u003e\\u003cb\\u003eVAFB SLC-4E\\u003c/b\\u003e\\u003c/div\\u003e&quot;, &quot;iconAnchor&quot;: [0, 0], &quot;iconSize&quot;: [20, 20]});\n            marker_035c42c9421c0eccb089a81b565eafbf.setIcon(div_icon_12588d788638bc52ac7bf0f9ac776511);\n        \n    \n            var marker_2f29098b56c36cf02012619c19f7931d = L.marker(\n                [34.632834, -120.610745],\n                {}\n            ).addTo(marker_cluster_00790123b3fb4d8e2ba4b6224453dc49);\n        \n    \n            var div_icon_3d51c8a1697ab2fc6abefb2a87c99957 = L.divIcon({&quot;className&quot;: &quot;empty&quot;, &quot;html&quot;: &quot;\\u003cdiv style=\\&quot;font-size: 12; color:#d35400;\\&quot;\\u003e\\u003cb\\u003eVAFB SLC-4E\\u003c/b\\u003e\\u003c/div\\u003e&quot;, &quot;iconAnchor&quot;: [0, 0], &quot;iconSize&quot;: [20, 20]});\n            marker_2f29098b56c36cf02012619c19f7931d.setIcon(div_icon_3d51c8a1697ab2fc6abefb2a87c99957);\n        \n    \n            var marker_ed866c823c2922e2f19b21cb96272754 = L.marker(\n                [34.632834, -120.610745],\n                {}\n            ).addTo(marker_cluster_00790123b3fb4d8e2ba4b6224453dc49);\n        \n    \n            var div_icon_ee752b118532e30864259808eccc72f4 = L.divIcon({&quot;className&quot;: &quot;empty&quot;, &quot;html&quot;: &quot;\\u003cdiv style=\\&quot;font-size: 12; color:#d35400;\\&quot;\\u003e\\u003cb\\u003eVAFB SLC-4E\\u003c/b\\u003e\\u003c/div\\u003e&quot;, &quot;iconAnchor&quot;: [0, 0], &quot;iconSize&quot;: [20, 20]});\n            marker_ed866c823c2922e2f19b21cb96272754.setIcon(div_icon_ee752b118532e30864259808eccc72f4);\n        \n    \n            var marker_69ba91ada57ebe15faab57254ac4cf71 = L.marker(\n                [34.632834, -120.610745],\n                {}\n            ).addTo(marker_cluster_00790123b3fb4d8e2ba4b6224453dc49);\n        \n    \n            var div_icon_54dd5df53f7c0e8ce692590b51e4a50f = L.divIcon({&quot;className&quot;: &quot;empty&quot;, &quot;html&quot;: &quot;\\u003cdiv style=\\&quot;font-size: 12; color:#d35400;\\&quot;\\u003e\\u003cb\\u003eVAFB SLC-4E\\u003c/b\\u003e\\u003c/div\\u003e&quot;, &quot;iconAnchor&quot;: [0, 0], &quot;iconSize&quot;: [20, 20]});\n            marker_69ba91ada57ebe15faab57254ac4cf71.setIcon(div_icon_54dd5df53f7c0e8ce692590b51e4a50f);\n        \n    \n            var marker_5703651b1e7b010067e5f75731ec1b8c = L.marker(\n                [34.632834, -120.610745],\n                {}\n            ).addTo(marker_cluster_00790123b3fb4d8e2ba4b6224453dc49);\n        \n    \n            var div_icon_4a60b7aaddd6f15b43ab76cb0528d49c = L.divIcon({&quot;className&quot;: &quot;empty&quot;, &quot;html&quot;: &quot;\\u003cdiv style=\\&quot;font-size: 12; color:#d35400;\\&quot;\\u003e\\u003cb\\u003eVAFB SLC-4E\\u003c/b\\u003e\\u003c/div\\u003e&quot;, &quot;iconAnchor&quot;: [0, 0], &quot;iconSize&quot;: [20, 20]});\n            marker_5703651b1e7b010067e5f75731ec1b8c.setIcon(div_icon_4a60b7aaddd6f15b43ab76cb0528d49c);\n        \n    \n            var marker_2399000061df9f8f553f7ef65e821ba7 = L.marker(\n                [34.632834, -120.610745],\n                {}\n            ).addTo(marker_cluster_00790123b3fb4d8e2ba4b6224453dc49);\n        \n    \n            var div_icon_4eb462e8b444badf3183873c0b65797f = L.divIcon({&quot;className&quot;: &quot;empty&quot;, &quot;html&quot;: &quot;\\u003cdiv style=\\&quot;font-size: 12; color:#d35400;\\&quot;\\u003e\\u003cb\\u003eVAFB SLC-4E\\u003c/b\\u003e\\u003c/div\\u003e&quot;, &quot;iconAnchor&quot;: [0, 0], &quot;iconSize&quot;: [20, 20]});\n            marker_2399000061df9f8f553f7ef65e821ba7.setIcon(div_icon_4eb462e8b444badf3183873c0b65797f);\n        \n    \n            var marker_f766bdd79d7501d97a5074d42c2f779d = L.marker(\n                [34.632834, -120.610745],\n                {}\n            ).addTo(marker_cluster_00790123b3fb4d8e2ba4b6224453dc49);\n        \n    \n            var div_icon_72033fa127c02d11d3e1d7f53a24df51 = L.divIcon({&quot;className&quot;: &quot;empty&quot;, &quot;html&quot;: &quot;\\u003cdiv style=\\&quot;font-size: 12; color:#d35400;\\&quot;\\u003e\\u003cb\\u003eVAFB SLC-4E\\u003c/b\\u003e\\u003c/div\\u003e&quot;, &quot;iconAnchor&quot;: [0, 0], &quot;iconSize&quot;: [20, 20]});\n            marker_f766bdd79d7501d97a5074d42c2f779d.setIcon(div_icon_72033fa127c02d11d3e1d7f53a24df51);\n        \n    \n            var marker_82d3d2547b4629d2ede6609b174bbd56 = L.marker(\n                [34.632834, -120.610745],\n                {}\n            ).addTo(marker_cluster_00790123b3fb4d8e2ba4b6224453dc49);\n        \n    \n            var div_icon_aa3adfee69773964a13d54b59ba97ea6 = L.divIcon({&quot;className&quot;: &quot;empty&quot;, &quot;html&quot;: &quot;\\u003cdiv style=\\&quot;font-size: 12; color:#d35400;\\&quot;\\u003e\\u003cb\\u003eVAFB SLC-4E\\u003c/b\\u003e\\u003c/div\\u003e&quot;, &quot;iconAnchor&quot;: [0, 0], &quot;iconSize&quot;: [20, 20]});\n            marker_82d3d2547b4629d2ede6609b174bbd56.setIcon(div_icon_aa3adfee69773964a13d54b59ba97ea6);\n        \n    \n            var marker_e7c10d138d9a76cece6ea0e9abe03177 = L.marker(\n                [34.632834, -120.610745],\n                {}\n            ).addTo(marker_cluster_00790123b3fb4d8e2ba4b6224453dc49);\n        \n    \n            var div_icon_7697801fac1239e4778f1595f3bcf671 = L.divIcon({&quot;className&quot;: &quot;empty&quot;, &quot;html&quot;: &quot;\\u003cdiv style=\\&quot;font-size: 12; color:#d35400;\\&quot;\\u003e\\u003cb\\u003eVAFB SLC-4E\\u003c/b\\u003e\\u003c/div\\u003e&quot;, &quot;iconAnchor&quot;: [0, 0], &quot;iconSize&quot;: [20, 20]});\n            marker_e7c10d138d9a76cece6ea0e9abe03177.setIcon(div_icon_7697801fac1239e4778f1595f3bcf671);\n        \n    \n            var marker_b3abc08497fbc4d6111ca681ff4c099f = L.marker(\n                [34.632834, -120.610745],\n                {}\n            ).addTo(marker_cluster_00790123b3fb4d8e2ba4b6224453dc49);\n        \n    \n            var div_icon_de92367560e97e49911da64ef2c5f194 = L.divIcon({&quot;className&quot;: &quot;empty&quot;, &quot;html&quot;: &quot;\\u003cdiv style=\\&quot;font-size: 12; color:#d35400;\\&quot;\\u003e\\u003cb\\u003eVAFB SLC-4E\\u003c/b\\u003e\\u003c/div\\u003e&quot;, &quot;iconAnchor&quot;: [0, 0], &quot;iconSize&quot;: [20, 20]});\n            marker_b3abc08497fbc4d6111ca681ff4c099f.setIcon(div_icon_de92367560e97e49911da64ef2c5f194);\n        \n    \n            var marker_5e74b1da0350767c70e6d33adad9562b = L.marker(\n                [34.632834, -120.610745],\n                {}\n            ).addTo(marker_cluster_00790123b3fb4d8e2ba4b6224453dc49);\n        \n    \n            var div_icon_491cb477231a4ec105dd1670d5f6c3fa = L.divIcon({&quot;className&quot;: &quot;empty&quot;, &quot;html&quot;: &quot;\\u003cdiv style=\\&quot;font-size: 12; color:#d35400;\\&quot;\\u003e\\u003cb\\u003eVAFB SLC-4E\\u003c/b\\u003e\\u003c/div\\u003e&quot;, &quot;iconAnchor&quot;: [0, 0], &quot;iconSize&quot;: [20, 20]});\n            marker_5e74b1da0350767c70e6d33adad9562b.setIcon(div_icon_491cb477231a4ec105dd1670d5f6c3fa);\n        \n    \n            var marker_02146a3d70a1e045cfbb84d1f55f7271 = L.marker(\n                [34.632834, -120.610745],\n                {}\n            ).addTo(marker_cluster_00790123b3fb4d8e2ba4b6224453dc49);\n        \n    \n            var div_icon_b848047556cf44881e2c10a9b0f67d3d = L.divIcon({&quot;className&quot;: &quot;empty&quot;, &quot;html&quot;: &quot;\\u003cdiv style=\\&quot;font-size: 12; color:#d35400;\\&quot;\\u003e\\u003cb\\u003eVAFB SLC-4E\\u003c/b\\u003e\\u003c/div\\u003e&quot;, &quot;iconAnchor&quot;: [0, 0], &quot;iconSize&quot;: [20, 20]});\n            marker_02146a3d70a1e045cfbb84d1f55f7271.setIcon(div_icon_b848047556cf44881e2c10a9b0f67d3d);\n        \n    \n            var marker_d98350e40e7b3f1edf6c4da22ef8264b = L.marker(\n                [34.632834, -120.610745],\n                {}\n            ).addTo(marker_cluster_00790123b3fb4d8e2ba4b6224453dc49);\n        \n    \n            var div_icon_634c7ffba0e0256819a4b1d15f1efe22 = L.divIcon({&quot;className&quot;: &quot;empty&quot;, &quot;html&quot;: &quot;\\u003cdiv style=\\&quot;font-size: 12; color:#d35400;\\&quot;\\u003e\\u003cb\\u003eVAFB SLC-4E\\u003c/b\\u003e\\u003c/div\\u003e&quot;, &quot;iconAnchor&quot;: [0, 0], &quot;iconSize&quot;: [20, 20]});\n            marker_d98350e40e7b3f1edf6c4da22ef8264b.setIcon(div_icon_634c7ffba0e0256819a4b1d15f1efe22);\n        \n    \n            var marker_f10b2d6fe500ca5f4ad7b69386f45aba = L.marker(\n                [34.632834, -120.610745],\n                {}\n            ).addTo(marker_cluster_00790123b3fb4d8e2ba4b6224453dc49);\n        \n    \n            var div_icon_6242309947bf5475465d0ffbdc80c3d9 = L.divIcon({&quot;className&quot;: &quot;empty&quot;, &quot;html&quot;: &quot;\\u003cdiv style=\\&quot;font-size: 12; color:#d35400;\\&quot;\\u003e\\u003cb\\u003eVAFB SLC-4E\\u003c/b\\u003e\\u003c/div\\u003e&quot;, &quot;iconAnchor&quot;: [0, 0], &quot;iconSize&quot;: [20, 20]});\n            marker_f10b2d6fe500ca5f4ad7b69386f45aba.setIcon(div_icon_6242309947bf5475465d0ffbdc80c3d9);\n        \n    \n            var marker_13c4a3173d69ad2e3e968e15c163d810 = L.marker(\n                [34.632834, -120.610745],\n                {}\n            ).addTo(marker_cluster_00790123b3fb4d8e2ba4b6224453dc49);\n        \n    \n            var div_icon_7b47df25e3a9c24f7c9d7c72439dfdba = L.divIcon({&quot;className&quot;: &quot;empty&quot;, &quot;html&quot;: &quot;\\u003cdiv style=\\&quot;font-size: 12; color:#d35400;\\&quot;\\u003e\\u003cb\\u003eVAFB SLC-4E\\u003c/b\\u003e\\u003c/div\\u003e&quot;, &quot;iconAnchor&quot;: [0, 0], &quot;iconSize&quot;: [20, 20]});\n            marker_13c4a3173d69ad2e3e968e15c163d810.setIcon(div_icon_7b47df25e3a9c24f7c9d7c72439dfdba);\n        \n    \n            var marker_c6efca091a7784f89942039d4490f7b2 = L.marker(\n                [34.632834, -120.610745],\n                {}\n            ).addTo(marker_cluster_00790123b3fb4d8e2ba4b6224453dc49);\n        \n    \n            var div_icon_d9ba73ee73724a344b74db09ac26647e = L.divIcon({&quot;className&quot;: &quot;empty&quot;, &quot;html&quot;: &quot;\\u003cdiv style=\\&quot;font-size: 12; color:#d35400;\\&quot;\\u003e\\u003cb\\u003eVAFB SLC-4E\\u003c/b\\u003e\\u003c/div\\u003e&quot;, &quot;iconAnchor&quot;: [0, 0], &quot;iconSize&quot;: [20, 20]});\n            marker_c6efca091a7784f89942039d4490f7b2.setIcon(div_icon_d9ba73ee73724a344b74db09ac26647e);\n        \n    \n            var marker_5338086a6284ad55d21e412ead4bd090 = L.marker(\n                [34.632834, -120.610745],\n                {}\n            ).addTo(marker_cluster_00790123b3fb4d8e2ba4b6224453dc49);\n        \n    \n            var div_icon_4181b3bfe84c8a2daf9406c5b3600292 = L.divIcon({&quot;className&quot;: &quot;empty&quot;, &quot;html&quot;: &quot;\\u003cdiv style=\\&quot;font-size: 12; color:#d35400;\\&quot;\\u003e\\u003cb\\u003eVAFB SLC-4E\\u003c/b\\u003e\\u003c/div\\u003e&quot;, &quot;iconAnchor&quot;: [0, 0], &quot;iconSize&quot;: [20, 20]});\n            marker_5338086a6284ad55d21e412ead4bd090.setIcon(div_icon_4181b3bfe84c8a2daf9406c5b3600292);\n        \n    \n            var marker_1e469956c39386f1a07f285f3bf39024 = L.marker(\n                [34.632834, -120.610745],\n                {}\n            ).addTo(marker_cluster_00790123b3fb4d8e2ba4b6224453dc49);\n        \n    \n            var div_icon_0fe37136a818b67cd264581acfd92d41 = L.divIcon({&quot;className&quot;: &quot;empty&quot;, &quot;html&quot;: &quot;\\u003cdiv style=\\&quot;font-size: 12; color:#d35400;\\&quot;\\u003e\\u003cb\\u003eVAFB SLC-4E\\u003c/b\\u003e\\u003c/div\\u003e&quot;, &quot;iconAnchor&quot;: [0, 0], &quot;iconSize&quot;: [20, 20]});\n            marker_1e469956c39386f1a07f285f3bf39024.setIcon(div_icon_0fe37136a818b67cd264581acfd92d41);\n        \n    \n            var marker_44539c4d8716c5ceb41a9c5bb1df1503 = L.marker(\n                [34.632834, -120.610745],\n                {}\n            ).addTo(marker_cluster_00790123b3fb4d8e2ba4b6224453dc49);\n        \n    \n            var div_icon_b3ae5d91947f895f5b2c60a9bfabedae = L.divIcon({&quot;className&quot;: &quot;empty&quot;, &quot;html&quot;: &quot;\\u003cdiv style=\\&quot;font-size: 12; color:#d35400;\\&quot;\\u003e\\u003cb\\u003eVAFB SLC-4E\\u003c/b\\u003e\\u003c/div\\u003e&quot;, &quot;iconAnchor&quot;: [0, 0], &quot;iconSize&quot;: [20, 20]});\n            marker_44539c4d8716c5ceb41a9c5bb1df1503.setIcon(div_icon_b3ae5d91947f895f5b2c60a9bfabedae);\n        \n    \n            var marker_8ac80d103ad8cc044ea3f494bc59511e = L.marker(\n                [34.632834, -120.610745],\n                {}\n            ).addTo(marker_cluster_00790123b3fb4d8e2ba4b6224453dc49);\n        \n    \n            var div_icon_87ff257a48d3e710462806c7542a3c54 = L.divIcon({&quot;className&quot;: &quot;empty&quot;, &quot;html&quot;: &quot;\\u003cdiv style=\\&quot;font-size: 12; color:#d35400;\\&quot;\\u003e\\u003cb\\u003eVAFB SLC-4E\\u003c/b\\u003e\\u003c/div\\u003e&quot;, &quot;iconAnchor&quot;: [0, 0], &quot;iconSize&quot;: [20, 20]});\n            marker_8ac80d103ad8cc044ea3f494bc59511e.setIcon(div_icon_87ff257a48d3e710462806c7542a3c54);\n        \n    \n            var marker_d16c76f970e735f89dc6e69cbf595767 = L.marker(\n                [34.632834, -120.610745],\n                {}\n            ).addTo(marker_cluster_00790123b3fb4d8e2ba4b6224453dc49);\n        \n    \n            var div_icon_2f8bfc2c510e905ea0b3bb0b9c15212c = L.divIcon({&quot;className&quot;: &quot;empty&quot;, &quot;html&quot;: &quot;\\u003cdiv style=\\&quot;font-size: 12; color:#d35400;\\&quot;\\u003e\\u003cb\\u003eVAFB SLC-4E\\u003c/b\\u003e\\u003c/div\\u003e&quot;, &quot;iconAnchor&quot;: [0, 0], &quot;iconSize&quot;: [20, 20]});\n            marker_d16c76f970e735f89dc6e69cbf595767.setIcon(div_icon_2f8bfc2c510e905ea0b3bb0b9c15212c);\n        \n    \n            var marker_fdf0838d2d76f333d8c39da9f32b3d25 = L.marker(\n                [34.632834, -120.610745],\n                {}\n            ).addTo(marker_cluster_00790123b3fb4d8e2ba4b6224453dc49);\n        \n    \n            var div_icon_5976b593bbad8ac4259dad745a08ff18 = L.divIcon({&quot;className&quot;: &quot;empty&quot;, &quot;html&quot;: &quot;\\u003cdiv style=\\&quot;font-size: 12; color:#d35400;\\&quot;\\u003e\\u003cb\\u003eVAFB SLC-4E\\u003c/b\\u003e\\u003c/div\\u003e&quot;, &quot;iconAnchor&quot;: [0, 0], &quot;iconSize&quot;: [20, 20]});\n            marker_fdf0838d2d76f333d8c39da9f32b3d25.setIcon(div_icon_5976b593bbad8ac4259dad745a08ff18);\n        \n    \n            var marker_cdf5e6b8449df98979628f7477966229 = L.marker(\n                [34.632834, -120.610745],\n                {}\n            ).addTo(marker_cluster_00790123b3fb4d8e2ba4b6224453dc49);\n        \n    \n            var div_icon_c409c19ded5ed4da89d35571c6ca042b = L.divIcon({&quot;className&quot;: &quot;empty&quot;, &quot;html&quot;: &quot;\\u003cdiv style=\\&quot;font-size: 12; color:#d35400;\\&quot;\\u003e\\u003cb\\u003eVAFB SLC-4E\\u003c/b\\u003e\\u003c/div\\u003e&quot;, &quot;iconAnchor&quot;: [0, 0], &quot;iconSize&quot;: [20, 20]});\n            marker_cdf5e6b8449df98979628f7477966229.setIcon(div_icon_c409c19ded5ed4da89d35571c6ca042b);\n        \n    \n            var marker_ea0223846330a4860581e8af74bfd8d0 = L.marker(\n                [34.632834, -120.610745],\n                {}\n            ).addTo(marker_cluster_00790123b3fb4d8e2ba4b6224453dc49);\n        \n    \n            var div_icon_9670dde9cfb8d7c99bd6d3f3890d8f33 = L.divIcon({&quot;className&quot;: &quot;empty&quot;, &quot;html&quot;: &quot;\\u003cdiv style=\\&quot;font-size: 12; color:#d35400;\\&quot;\\u003e\\u003cb\\u003eVAFB SLC-4E\\u003c/b\\u003e\\u003c/div\\u003e&quot;, &quot;iconAnchor&quot;: [0, 0], &quot;iconSize&quot;: [20, 20]});\n            marker_ea0223846330a4860581e8af74bfd8d0.setIcon(div_icon_9670dde9cfb8d7c99bd6d3f3890d8f33);\n        \n    \n            var marker_be4eaed0a51c533abb724e232e6430a9 = L.marker(\n                [34.632834, -120.610745],\n                {}\n            ).addTo(marker_cluster_00790123b3fb4d8e2ba4b6224453dc49);\n        \n    \n            var div_icon_4709ce9602ba089156243d169738d244 = L.divIcon({&quot;className&quot;: &quot;empty&quot;, &quot;html&quot;: &quot;\\u003cdiv style=\\&quot;font-size: 12; color:#d35400;\\&quot;\\u003e\\u003cb\\u003eVAFB SLC-4E\\u003c/b\\u003e\\u003c/div\\u003e&quot;, &quot;iconAnchor&quot;: [0, 0], &quot;iconSize&quot;: [20, 20]});\n            marker_be4eaed0a51c533abb724e232e6430a9.setIcon(div_icon_4709ce9602ba089156243d169738d244);\n        \n    \n            var marker_f6de3a5cf086a2484d5dafe486022d20 = L.marker(\n                [34.632834, -120.610745],\n                {}\n            ).addTo(marker_cluster_00790123b3fb4d8e2ba4b6224453dc49);\n        \n    \n            var div_icon_c9637907bcb350bf3addf1a7e5bf107d = L.divIcon({&quot;className&quot;: &quot;empty&quot;, &quot;html&quot;: &quot;\\u003cdiv style=\\&quot;font-size: 12; color:#d35400;\\&quot;\\u003e\\u003cb\\u003eVAFB SLC-4E\\u003c/b\\u003e\\u003c/div\\u003e&quot;, &quot;iconAnchor&quot;: [0, 0], &quot;iconSize&quot;: [20, 20]});\n            marker_f6de3a5cf086a2484d5dafe486022d20.setIcon(div_icon_c9637907bcb350bf3addf1a7e5bf107d);\n        \n    \n            var marker_e744bccb8cadfb518d9c5339fec47afb = L.marker(\n                [34.632834, -120.610745],\n                {}\n            ).addTo(marker_cluster_00790123b3fb4d8e2ba4b6224453dc49);\n        \n    \n            var div_icon_d9c6f25e9b7954df457493962a7fb59e = L.divIcon({&quot;className&quot;: &quot;empty&quot;, &quot;html&quot;: &quot;\\u003cdiv style=\\&quot;font-size: 12; color:#d35400;\\&quot;\\u003e\\u003cb\\u003eVAFB SLC-4E\\u003c/b\\u003e\\u003c/div\\u003e&quot;, &quot;iconAnchor&quot;: [0, 0], &quot;iconSize&quot;: [20, 20]});\n            marker_e744bccb8cadfb518d9c5339fec47afb.setIcon(div_icon_d9c6f25e9b7954df457493962a7fb59e);\n        \n    \n            var marker_2e356f4cb9c5b2fdb8d2c58eb129c55d = L.marker(\n                [34.632834, -120.610745],\n                {}\n            ).addTo(marker_cluster_00790123b3fb4d8e2ba4b6224453dc49);\n        \n    \n            var div_icon_cf90cfe49958c2e77817586327317bb7 = L.divIcon({&quot;className&quot;: &quot;empty&quot;, &quot;html&quot;: &quot;\\u003cdiv style=\\&quot;font-size: 12; color:#d35400;\\&quot;\\u003e\\u003cb\\u003eVAFB SLC-4E\\u003c/b\\u003e\\u003c/div\\u003e&quot;, &quot;iconAnchor&quot;: [0, 0], &quot;iconSize&quot;: [20, 20]});\n            marker_2e356f4cb9c5b2fdb8d2c58eb129c55d.setIcon(div_icon_cf90cfe49958c2e77817586327317bb7);\n        \n    \n            var marker_4c1ec449784e361b788f415e5f22b111 = L.marker(\n                [34.632834, -120.610745],\n                {}\n            ).addTo(marker_cluster_00790123b3fb4d8e2ba4b6224453dc49);\n        \n    \n            var div_icon_78f62075e579102a7a778553b8f97584 = L.divIcon({&quot;className&quot;: &quot;empty&quot;, &quot;html&quot;: &quot;\\u003cdiv style=\\&quot;font-size: 12; color:#d35400;\\&quot;\\u003e\\u003cb\\u003eVAFB SLC-4E\\u003c/b\\u003e\\u003c/div\\u003e&quot;, &quot;iconAnchor&quot;: [0, 0], &quot;iconSize&quot;: [20, 20]});\n            marker_4c1ec449784e361b788f415e5f22b111.setIcon(div_icon_78f62075e579102a7a778553b8f97584);\n        \n    \n            var marker_db1addeab4f389587a611c0128b1dfc9 = L.marker(\n                [34.632834, -120.610745],\n                {}\n            ).addTo(marker_cluster_00790123b3fb4d8e2ba4b6224453dc49);\n        \n    \n            var div_icon_208a2f68e472b72522c2b83cde2bcd79 = L.divIcon({&quot;className&quot;: &quot;empty&quot;, &quot;html&quot;: &quot;\\u003cdiv style=\\&quot;font-size: 12; color:#d35400;\\&quot;\\u003e\\u003cb\\u003eVAFB SLC-4E\\u003c/b\\u003e\\u003c/div\\u003e&quot;, &quot;iconAnchor&quot;: [0, 0], &quot;iconSize&quot;: [20, 20]});\n            marker_db1addeab4f389587a611c0128b1dfc9.setIcon(div_icon_208a2f68e472b72522c2b83cde2bcd79);\n        \n    \n            var marker_d8f243cda50279e156c5b09b7777449f = L.marker(\n                [34.632834, -120.610745],\n                {}\n            ).addTo(marker_cluster_00790123b3fb4d8e2ba4b6224453dc49);\n        \n    \n            var div_icon_453c8ef743418e78eb72318ebb915ed0 = L.divIcon({&quot;className&quot;: &quot;empty&quot;, &quot;html&quot;: &quot;\\u003cdiv style=\\&quot;font-size: 12; color:#d35400;\\&quot;\\u003e\\u003cb\\u003eVAFB SLC-4E\\u003c/b\\u003e\\u003c/div\\u003e&quot;, &quot;iconAnchor&quot;: [0, 0], &quot;iconSize&quot;: [20, 20]});\n            marker_d8f243cda50279e156c5b09b7777449f.setIcon(div_icon_453c8ef743418e78eb72318ebb915ed0);\n        \n    \n            var marker_e48f74bf371f061f598770cb827059b9 = L.marker(\n                [34.632834, -120.610745],\n                {}\n            ).addTo(marker_cluster_00790123b3fb4d8e2ba4b6224453dc49);\n        \n    \n            var div_icon_48f87c2551776da9c65f7337586f6ab7 = L.divIcon({&quot;className&quot;: &quot;empty&quot;, &quot;html&quot;: &quot;\\u003cdiv style=\\&quot;font-size: 12; color:#d35400;\\&quot;\\u003e\\u003cb\\u003eVAFB SLC-4E\\u003c/b\\u003e\\u003c/div\\u003e&quot;, &quot;iconAnchor&quot;: [0, 0], &quot;iconSize&quot;: [20, 20]});\n            marker_e48f74bf371f061f598770cb827059b9.setIcon(div_icon_48f87c2551776da9c65f7337586f6ab7);\n        \n    \n            var marker_9bca1170563151c039498c38218d6dfd = L.marker(\n                [34.632834, -120.610745],\n                {}\n            ).addTo(marker_cluster_00790123b3fb4d8e2ba4b6224453dc49);\n        \n    \n            var div_icon_84999cf210b8a10871c5fc96ad193417 = L.divIcon({&quot;className&quot;: &quot;empty&quot;, &quot;html&quot;: &quot;\\u003cdiv style=\\&quot;font-size: 12; color:#d35400;\\&quot;\\u003e\\u003cb\\u003eVAFB SLC-4E\\u003c/b\\u003e\\u003c/div\\u003e&quot;, &quot;iconAnchor&quot;: [0, 0], &quot;iconSize&quot;: [20, 20]});\n            marker_9bca1170563151c039498c38218d6dfd.setIcon(div_icon_84999cf210b8a10871c5fc96ad193417);\n        \n    \n            var marker_38b84c2da422979ad063042ed87f4b42 = L.marker(\n                [34.632834, -120.610745],\n                {}\n            ).addTo(marker_cluster_00790123b3fb4d8e2ba4b6224453dc49);\n        \n    \n            var div_icon_c3b0b18189b031e43cb716b388ca8da9 = L.divIcon({&quot;className&quot;: &quot;empty&quot;, &quot;html&quot;: &quot;\\u003cdiv style=\\&quot;font-size: 12; color:#d35400;\\&quot;\\u003e\\u003cb\\u003eVAFB SLC-4E\\u003c/b\\u003e\\u003c/div\\u003e&quot;, &quot;iconAnchor&quot;: [0, 0], &quot;iconSize&quot;: [20, 20]});\n            marker_38b84c2da422979ad063042ed87f4b42.setIcon(div_icon_c3b0b18189b031e43cb716b388ca8da9);\n        \n    \n            var marker_804a8fbb2d95f62e3be49430fcf7bd2c = L.marker(\n                [34.632834, -120.610745],\n                {}\n            ).addTo(marker_cluster_00790123b3fb4d8e2ba4b6224453dc49);\n        \n    \n            var div_icon_9eb408e38a4b5210e790d01722defa6f = L.divIcon({&quot;className&quot;: &quot;empty&quot;, &quot;html&quot;: &quot;\\u003cdiv style=\\&quot;font-size: 12; color:#d35400;\\&quot;\\u003e\\u003cb\\u003eVAFB SLC-4E\\u003c/b\\u003e\\u003c/div\\u003e&quot;, &quot;iconAnchor&quot;: [0, 0], &quot;iconSize&quot;: [20, 20]});\n            marker_804a8fbb2d95f62e3be49430fcf7bd2c.setIcon(div_icon_9eb408e38a4b5210e790d01722defa6f);\n        \n    \n            var marker_8453708c2f7b7e86c6e8ed806b455e43 = L.marker(\n                [34.632834, -120.610745],\n                {}\n            ).addTo(marker_cluster_00790123b3fb4d8e2ba4b6224453dc49);\n        \n    \n            var div_icon_b0457e137ce691f7a551ad04156a6e9b = L.divIcon({&quot;className&quot;: &quot;empty&quot;, &quot;html&quot;: &quot;\\u003cdiv style=\\&quot;font-size: 12; color:#d35400;\\&quot;\\u003e\\u003cb\\u003eVAFB SLC-4E\\u003c/b\\u003e\\u003c/div\\u003e&quot;, &quot;iconAnchor&quot;: [0, 0], &quot;iconSize&quot;: [20, 20]});\n            marker_8453708c2f7b7e86c6e8ed806b455e43.setIcon(div_icon_b0457e137ce691f7a551ad04156a6e9b);\n        \n    \n            var marker_ca58dd2c447ed67d7d1adb72681d7365 = L.marker(\n                [34.632834, -120.610745],\n                {}\n            ).addTo(marker_cluster_00790123b3fb4d8e2ba4b6224453dc49);\n        \n    \n            var div_icon_9478184251558265c4298a8f568f310b = L.divIcon({&quot;className&quot;: &quot;empty&quot;, &quot;html&quot;: &quot;\\u003cdiv style=\\&quot;font-size: 12; color:#d35400;\\&quot;\\u003e\\u003cb\\u003eVAFB SLC-4E\\u003c/b\\u003e\\u003c/div\\u003e&quot;, &quot;iconAnchor&quot;: [0, 0], &quot;iconSize&quot;: [20, 20]});\n            marker_ca58dd2c447ed67d7d1adb72681d7365.setIcon(div_icon_9478184251558265c4298a8f568f310b);\n        \n    \n            var marker_6a2757d3bc413f16604dbdf89cfc8957 = L.marker(\n                [34.632834, -120.610745],\n                {}\n            ).addTo(marker_cluster_00790123b3fb4d8e2ba4b6224453dc49);\n        \n    \n            var div_icon_bbbe60901c54514b7e60034fcf3dd374 = L.divIcon({&quot;className&quot;: &quot;empty&quot;, &quot;html&quot;: &quot;\\u003cdiv style=\\&quot;font-size: 12; color:#d35400;\\&quot;\\u003e\\u003cb\\u003eVAFB SLC-4E\\u003c/b\\u003e\\u003c/div\\u003e&quot;, &quot;iconAnchor&quot;: [0, 0], &quot;iconSize&quot;: [20, 20]});\n            marker_6a2757d3bc413f16604dbdf89cfc8957.setIcon(div_icon_bbbe60901c54514b7e60034fcf3dd374);\n        \n    \n            var marker_70c9d5a7960082b74aab4e22997d5919 = L.marker(\n                [34.632834, -120.610745],\n                {}\n            ).addTo(marker_cluster_00790123b3fb4d8e2ba4b6224453dc49);\n        \n    \n            var div_icon_6638d47c057417a189ee9d3cc66012d8 = L.divIcon({&quot;className&quot;: &quot;empty&quot;, &quot;html&quot;: &quot;\\u003cdiv style=\\&quot;font-size: 12; color:#d35400;\\&quot;\\u003e\\u003cb\\u003eVAFB SLC-4E\\u003c/b\\u003e\\u003c/div\\u003e&quot;, &quot;iconAnchor&quot;: [0, 0], &quot;iconSize&quot;: [20, 20]});\n            marker_70c9d5a7960082b74aab4e22997d5919.setIcon(div_icon_6638d47c057417a189ee9d3cc66012d8);\n        \n    \n            var marker_68d9ccfc8cc68e17d70a3b407365608a = L.marker(\n                [34.632834, -120.610745],\n                {}\n            ).addTo(marker_cluster_00790123b3fb4d8e2ba4b6224453dc49);\n        \n    \n            var div_icon_fb8710b1fd73f22a2babe113180e1579 = L.divIcon({&quot;className&quot;: &quot;empty&quot;, &quot;html&quot;: &quot;\\u003cdiv style=\\&quot;font-size: 12; color:#d35400;\\&quot;\\u003e\\u003cb\\u003eVAFB SLC-4E\\u003c/b\\u003e\\u003c/div\\u003e&quot;, &quot;iconAnchor&quot;: [0, 0], &quot;iconSize&quot;: [20, 20]});\n            marker_68d9ccfc8cc68e17d70a3b407365608a.setIcon(div_icon_fb8710b1fd73f22a2babe113180e1579);\n        \n    \n            var marker_4f85e5d754d83553c7e85e7e78b130f7 = L.marker(\n                [34.632834, -120.610745],\n                {}\n            ).addTo(marker_cluster_00790123b3fb4d8e2ba4b6224453dc49);\n        \n    \n            var div_icon_5b8b199bc8c2e30c610db668c27bdf11 = L.divIcon({&quot;className&quot;: &quot;empty&quot;, &quot;html&quot;: &quot;\\u003cdiv style=\\&quot;font-size: 12; color:#d35400;\\&quot;\\u003e\\u003cb\\u003eVAFB SLC-4E\\u003c/b\\u003e\\u003c/div\\u003e&quot;, &quot;iconAnchor&quot;: [0, 0], &quot;iconSize&quot;: [20, 20]});\n            marker_4f85e5d754d83553c7e85e7e78b130f7.setIcon(div_icon_5b8b199bc8c2e30c610db668c27bdf11);\n        \n    \n            var marker_2ee4e6ac5196ec649762adfe05be4803 = L.marker(\n                [34.632834, -120.610745],\n                {}\n            ).addTo(marker_cluster_00790123b3fb4d8e2ba4b6224453dc49);\n        \n    \n            var div_icon_bb54519c0891ec409995d81aecd747d2 = L.divIcon({&quot;className&quot;: &quot;empty&quot;, &quot;html&quot;: &quot;\\u003cdiv style=\\&quot;font-size: 12; color:#d35400;\\&quot;\\u003e\\u003cb\\u003eVAFB SLC-4E\\u003c/b\\u003e\\u003c/div\\u003e&quot;, &quot;iconAnchor&quot;: [0, 0], &quot;iconSize&quot;: [20, 20]});\n            marker_2ee4e6ac5196ec649762adfe05be4803.setIcon(div_icon_bb54519c0891ec409995d81aecd747d2);\n        \n    \n            var marker_03cbd17fd91373c41a2502c5720d307a = L.marker(\n                [34.632834, -120.610745],\n                {}\n            ).addTo(marker_cluster_00790123b3fb4d8e2ba4b6224453dc49);\n        \n    \n            var div_icon_0af83abab6bc3ffb6df1a886af9bad64 = L.divIcon({&quot;className&quot;: &quot;empty&quot;, &quot;html&quot;: &quot;\\u003cdiv style=\\&quot;font-size: 12; color:#d35400;\\&quot;\\u003e\\u003cb\\u003eVAFB SLC-4E\\u003c/b\\u003e\\u003c/div\\u003e&quot;, &quot;iconAnchor&quot;: [0, 0], &quot;iconSize&quot;: [20, 20]});\n            marker_03cbd17fd91373c41a2502c5720d307a.setIcon(div_icon_0af83abab6bc3ffb6df1a886af9bad64);\n        \n    \n            var marker_6363397b0ac52065da24dbead696eb75 = L.marker(\n                [34.632834, -120.610745],\n                {}\n            ).addTo(marker_cluster_00790123b3fb4d8e2ba4b6224453dc49);\n        \n    \n            var div_icon_04877d3fe77b5a54b41696a2ac36d4b3 = L.divIcon({&quot;className&quot;: &quot;empty&quot;, &quot;html&quot;: &quot;\\u003cdiv style=\\&quot;font-size: 12; color:#d35400;\\&quot;\\u003e\\u003cb\\u003eVAFB SLC-4E\\u003c/b\\u003e\\u003c/div\\u003e&quot;, &quot;iconAnchor&quot;: [0, 0], &quot;iconSize&quot;: [20, 20]});\n            marker_6363397b0ac52065da24dbead696eb75.setIcon(div_icon_04877d3fe77b5a54b41696a2ac36d4b3);\n        \n    \n            var marker_bb7522f6b3d7da8430343d37fc08e03c = L.marker(\n                [34.632834, -120.610745],\n                {}\n            ).addTo(marker_cluster_00790123b3fb4d8e2ba4b6224453dc49);\n        \n    \n            var div_icon_4dbd5e2336f0520e874da0ed5fc4be23 = L.divIcon({&quot;className&quot;: &quot;empty&quot;, &quot;html&quot;: &quot;\\u003cdiv style=\\&quot;font-size: 12; color:#d35400;\\&quot;\\u003e\\u003cb\\u003eVAFB SLC-4E\\u003c/b\\u003e\\u003c/div\\u003e&quot;, &quot;iconAnchor&quot;: [0, 0], &quot;iconSize&quot;: [20, 20]});\n            marker_bb7522f6b3d7da8430343d37fc08e03c.setIcon(div_icon_4dbd5e2336f0520e874da0ed5fc4be23);\n        \n&lt;/script&gt;\n&lt;/html&gt;\" style=\"position:absolute;width:100%;height:100%;left:0;top:0;border:none !important;\" allowfullscreen webkitallowfullscreen mozallowfullscreen></iframe></div></div>"
          },
          "metadata": {}
        }
      ],
      "execution_count": 18
    },
    {
      "cell_type": "markdown",
      "source": "Your updated map may look like the following screenshots:\n",
      "metadata": {}
    },
    {
      "cell_type": "markdown",
      "source": "<center>\n    <img src=\"https://cf-courses-data.s3.us.cloud-object-storage.appdomain.cloud/IBM-DS0321EN-SkillsNetwork/labs/module_3/images/launch_site_marker_cluster.png\">\n</center>\n",
      "metadata": {}
    },
    {
      "cell_type": "markdown",
      "source": "<center>\n    <img src=\"https://cf-courses-data.s3.us.cloud-object-storage.appdomain.cloud/IBM-DS0321EN-SkillsNetwork/labs/module_3/images/launch_site_marker_cluster_zoomed.png\">\n</center>\n",
      "metadata": {}
    },
    {
      "cell_type": "markdown",
      "source": "From the color-labeled markers in marker clusters, you should be able to easily identify which launch sites have relatively high success rates.\n",
      "metadata": {}
    },
    {
      "cell_type": "code",
      "source": "# TASK 3: Calculate the distances between a launch site to its proximities\n",
      "metadata": {},
      "outputs": [],
      "execution_count": null
    },
    {
      "cell_type": "markdown",
      "source": "Next, we need to explore and analyze the proximities of launch sites.\n",
      "metadata": {}
    },
    {
      "cell_type": "markdown",
      "source": "Let's first add a `MousePosition` on the map to get coordinate for a mouse over a point on the map. As such, while you are exploring the map, you can easily find the coordinates of any points of interests (such as railway)\n",
      "metadata": {}
    },
    {
      "cell_type": "code",
      "source": "# Add Mouse Position to get the coordinate (Lat, Long) for a mouse over on the map\nformatter = \"function(num) {return L.Util.formatNum(num, 5);};\"\nmouse_position = MousePosition(\n    position='topright',\n    separator=' Long: ',\n    empty_string='NaN',\n    lng_first=False,\n    num_digits=20,\n    prefix='Lat:',\n    lat_formatter=formatter,\n    lng_formatter=formatter,\n)\n\nsite_map.add_child(mouse_position)\nsite_map",
      "metadata": {},
      "outputs": [],
      "execution_count": null
    },
    {
      "cell_type": "markdown",
      "source": "Now zoom in to a launch site and explore its proximity to see if you can easily find any railway, highway, coastline, etc. Move your mouse to these points and mark down their coordinates (shown on the top-left) in order to the distance to the launch site.\n",
      "metadata": {}
    },
    {
      "cell_type": "markdown",
      "source": "Now zoom in to a launch site and explore its proximity to see if you can easily find any railway, highway, coastline, etc. Move your mouse to these points and mark down their coordinates (shown on the top-left) in order to the distance to the launch site.\n",
      "metadata": {}
    },
    {
      "cell_type": "code",
      "source": "from math import sin, cos, sqrt, atan2, radians\n\ndef calculate_distance(lat1, lon1, lat2, lon2):\n    # approximate radius of earth in km\n    R = 6373.0\n\n    lat1 = radians(lat1)\n    lon1 = radians(lon1)\n    lat2 = radians(lat2)\n    lon2 = radians(lon2)\n\n    dlon = lon2 - lon1\n    dlat = lat2 - lat1\n\n    a = sin(dlat / 2)**2 + cos(lat1) * cos(lat2) * sin(dlon / 2)**2\n    c = 2 * atan2(sqrt(a), sqrt(1 - a))\n\n    distance = R * c\n    return distance",
      "metadata": {},
      "outputs": [],
      "execution_count": null
    },
    {
      "cell_type": "markdown",
      "source": "*TODO:* Mark down a point on the closest coastline using MousePosition and calculate the distance between the coastline point and the launch site.\n",
      "metadata": {}
    },
    {
      "cell_type": "code",
      "source": "# find coordinate of the closet coastline\n# e.g.,: Lat: 28.56367  Lon: -80.57163\n# distance_coastline = calculate_distance(launch_site_lat, launch_site_lon, coastline_lat, coastline_lon)\ncoastline_lat = 28.59112\ncoastline_lon = -80.61999\nlaunch_site_lat = 28.562302\nlaunch_site_lon = -80.577356\ndistance_coastline = calculate_distance(launch_site_lat, launch_site_lon, coastline_lat, coastline_lon)",
      "metadata": {
        "trusted": true
      },
      "outputs": [],
      "execution_count": null
    },
    {
      "cell_type": "code",
      "source": "# Create and add a folium.Marker on your selected closest coastline point on the map\n# Display the distance between coastline point and launch site using the icon property \n# for example\ndistance_marker = folium.Marker(\n   coordinate,\n   icon=DivIcon(\n       icon_size=(20,20),\n       icon_anchor=(0,0),\n       html='<div style=\"font-size: 12; color:#d35400;\"><b>%s</b></div>' % \"{:10.2f} KM\".format(distance),\n       )\n   )",
      "metadata": {
        "trusted": true
      },
      "outputs": [],
      "execution_count": null
    },
    {
      "cell_type": "markdown",
      "source": "*TODO:* Draw a `PolyLine` between a launch site to the selected coastline point\n",
      "metadata": {}
    },
    {
      "cell_type": "code",
      "source": "# Create a `folium.PolyLine` object using the coastline coordinates and launch site coordinate\ncoordinates =[[launch_site_lat, launch_site_lon], [coastline_lat, coastline_lon]]\nlines=folium.PolyLine(locations=coordinates, weight=1)\nsite_map.add_child(lines)",
      "metadata": {
        "trusted": true
      },
      "outputs": [],
      "execution_count": null
    },
    {
      "cell_type": "markdown",
      "source": "Your updated map with distance line should look like the following screenshot:\n",
      "metadata": {}
    },
    {
      "cell_type": "markdown",
      "source": "<center>\n    <img src=\"https://cf-courses-data.s3.us.cloud-object-storage.appdomain.cloud/IBM-DS0321EN-SkillsNetwork/labs/module_3/images/launch_site_marker_distance.png\">\n</center>\n",
      "metadata": {}
    },
    {
      "cell_type": "markdown",
      "source": "*TODO:* Similarly, you can draw a line betwee a launch site to its closest city, railway, highway, etc. You need to use `MousePosition` to find the their coordinates on the map first\n",
      "metadata": {}
    },
    {
      "cell_type": "markdown",
      "source": "A railway map symbol may look like this:\n",
      "metadata": {}
    },
    {
      "cell_type": "markdown",
      "source": "<center>\n    <img src=\"https://cf-courses-data.s3.us.cloud-object-storage.appdomain.cloud/IBM-DS0321EN-SkillsNetwork/labs/module_3/images/railway.png\">\n</center>\n",
      "metadata": {}
    },
    {
      "cell_type": "markdown",
      "source": "A highway map symbol may look like this:\n",
      "metadata": {}
    },
    {
      "cell_type": "markdown",
      "source": "<center>\n    <img src=\"https://cf-courses-data.s3.us.cloud-object-storage.appdomain.cloud/IBM-DS0321EN-SkillsNetwork/labs/module_3/images/highway.png\">\n</center>\n",
      "metadata": {}
    },
    {
      "cell_type": "markdown",
      "source": "A city map symbol may look like this:\n",
      "metadata": {}
    },
    {
      "cell_type": "markdown",
      "source": "<center>\n    <img src=\"https://cf-courses-data.s3.us.cloud-object-storage.appdomain.cloud/IBM-DS0321EN-SkillsNetwork/labs/module_3/images/city.png\">\n</center>\n",
      "metadata": {}
    },
    {
      "cell_type": "code",
      "source": "# Create a marker with distance to a closest city, railway, highway, etc.\n# Draw a line between the marker to the launch site\n",
      "metadata": {},
      "outputs": [],
      "execution_count": null
    },
    {
      "cell_type": "code",
      "source": "",
      "metadata": {},
      "outputs": [],
      "execution_count": null
    },
    {
      "cell_type": "code",
      "source": "",
      "metadata": {},
      "outputs": [],
      "execution_count": null
    },
    {
      "cell_type": "markdown",
      "source": "After you plot distance lines to the proximities, you can answer the following questions easily:\n\n*   Are launch sites in close proximity to railways?\n*   Are launch sites in close proximity to highways?\n*   Are launch sites in close proximity to coastline?\n*   Do launch sites keep certain distance away from cities?\n\nAlso please try to explain your findings.\n",
      "metadata": {}
    },
    {
      "cell_type": "markdown",
      "source": "# Next Steps:\n\nNow you have discovered many interesting insights related to the launch sites' location using folium, in a very interactive way. Next, you will need to build a dashboard using Ploty Dash on detailed launch records.\n",
      "metadata": {}
    },
    {
      "cell_type": "markdown",
      "source": "## Authors\n",
      "metadata": {}
    },
    {
      "cell_type": "markdown",
      "source": "[Pratiksha Verma](https://www.linkedin.com/in/pratiksha-verma-6487561b1/?utm_medium=Exinfluencer&utm_source=Exinfluencer&utm_content=000026UJ&utm_term=10006555&utm_id=NA-SkillsNetwork-Channel-SkillsNetworkCoursesIBMDS0321ENSkillsNetwork865-2022-01-01)\n",
      "metadata": {}
    },
    {
      "cell_type": "markdown",
      "source": "## Change Log\n",
      "metadata": {}
    },
    {
      "cell_type": "markdown",
      "source": "| Date (YYYY-MM-DD) | Version | Changed By      | Change Description      |\n| ----------------- | ------- | -------------   | ----------------------- |\n| 2022-11-09        | 1.0     | Pratiksha Verma | Converted initial version to Jupyterlite|\n",
      "metadata": {}
    },
    {
      "cell_type": "markdown",
      "source": "### <h3 align=\"center\"> IBM Corporation 2022. All rights reserved. <h3/>\n",
      "metadata": {}
    }
  ]
}